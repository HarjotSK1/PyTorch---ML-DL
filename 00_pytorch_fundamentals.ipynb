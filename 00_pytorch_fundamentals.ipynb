{
  "nbformat": 4,
  "nbformat_minor": 0,
  "metadata": {
    "colab": {
      "provenance": [],
      "gpuType": "T4"
    },
    "kernelspec": {
      "name": "python3",
      "display_name": "Python 3"
    },
    "language_info": {
      "name": "python"
    },
    "accelerator": "GPU"
  },
  "cells": [
    {
      "cell_type": "markdown",
      "source": [
        "## 00. PyTorch Fundamentals\n",
        "\n",
        "Resource notebook: https://github.com/mrdbourke/pytorch-deep-learning"
      ],
      "metadata": {
        "id": "izfO_JqLizyK"
      }
    },
    {
      "cell_type": "code",
      "source": [
        "import torch\n",
        "import pandas as pd\n",
        "import numpy as np\n",
        "import matplotlib.pyplot as plt\n",
        "print(torch.__version__)"
      ],
      "metadata": {
        "colab": {
          "base_uri": "https://localhost:8080/"
        },
        "id": "kPQCsLioufjA",
        "outputId": "44f1aa1b-aa24-4b4b-a490-246a222c2eab"
      },
      "execution_count": 1,
      "outputs": [
        {
          "output_type": "stream",
          "name": "stdout",
          "text": [
            "2.1.0+cu121\n"
          ]
        }
      ]
    },
    {
      "cell_type": "markdown",
      "source": [
        "## Introduction to Tensors\n",
        "\n",
        "### Creating tensors\n",
        "\n",
        "PyTorch tensors are created using 'torch.Tensor()' : https://pytorch.org/docs/stable/tensors.html"
      ],
      "metadata": {
        "id": "2o7pW2KHnRX3"
      }
    },
    {
      "cell_type": "code",
      "source": [
        "# Scalar\n",
        "scalar = torch.tensor(7)\n",
        "scalar"
      ],
      "metadata": {
        "colab": {
          "base_uri": "https://localhost:8080/"
        },
        "id": "XBu6L93xmdTW",
        "outputId": "3fa07d0c-a37a-400e-92cb-0f280b7d0292"
      },
      "execution_count": 2,
      "outputs": [
        {
          "output_type": "execute_result",
          "data": {
            "text/plain": [
              "tensor(7)"
            ]
          },
          "metadata": {},
          "execution_count": 2
        }
      ]
    },
    {
      "cell_type": "code",
      "source": [
        "scalar.ndim"
      ],
      "metadata": {
        "colab": {
          "base_uri": "https://localhost:8080/"
        },
        "id": "VLF3FTLNnxfo",
        "outputId": "7a0ede89-9067-46a2-e7fe-3f0e3c0d7cd3"
      },
      "execution_count": 3,
      "outputs": [
        {
          "output_type": "execute_result",
          "data": {
            "text/plain": [
              "0"
            ]
          },
          "metadata": {},
          "execution_count": 3
        }
      ]
    },
    {
      "cell_type": "code",
      "source": [
        "# Get tensor back as Python int\n",
        "scalar.item()"
      ],
      "metadata": {
        "colab": {
          "base_uri": "https://localhost:8080/"
        },
        "id": "s-TKgUJUobUc",
        "outputId": "5c8653a2-598b-4415-cbf0-31e868202064"
      },
      "execution_count": 4,
      "outputs": [
        {
          "output_type": "execute_result",
          "data": {
            "text/plain": [
              "7"
            ]
          },
          "metadata": {},
          "execution_count": 4
        }
      ]
    },
    {
      "cell_type": "code",
      "source": [
        "# Vector\n",
        "vector = torch.tensor([7, 7])\n",
        "vector"
      ],
      "metadata": {
        "colab": {
          "base_uri": "https://localhost:8080/"
        },
        "id": "QYMMbh8xo10x",
        "outputId": "887a1476-68d4-4d6a-f36e-34c9b60c1370"
      },
      "execution_count": 5,
      "outputs": [
        {
          "output_type": "execute_result",
          "data": {
            "text/plain": [
              "tensor([7, 7])"
            ]
          },
          "metadata": {},
          "execution_count": 5
        }
      ]
    },
    {
      "cell_type": "code",
      "source": [
        "vector.ndim"
      ],
      "metadata": {
        "colab": {
          "base_uri": "https://localhost:8080/"
        },
        "id": "Q91mX0QZpF5E",
        "outputId": "7263cc43-3273-4707-9178-b7fa9efe8823"
      },
      "execution_count": 6,
      "outputs": [
        {
          "output_type": "execute_result",
          "data": {
            "text/plain": [
              "1"
            ]
          },
          "metadata": {},
          "execution_count": 6
        }
      ]
    },
    {
      "cell_type": "code",
      "source": [
        "vector.shape"
      ],
      "metadata": {
        "colab": {
          "base_uri": "https://localhost:8080/"
        },
        "id": "Vzf6nw2GpL9D",
        "outputId": "4f4baeee-63ba-4156-ff99-b1a311e5cb48"
      },
      "execution_count": 7,
      "outputs": [
        {
          "output_type": "execute_result",
          "data": {
            "text/plain": [
              "torch.Size([2])"
            ]
          },
          "metadata": {},
          "execution_count": 7
        }
      ]
    },
    {
      "cell_type": "code",
      "source": [
        "# Matrix\n",
        "MATRIX = torch.tensor([[7, 8],\n",
        "                      [9, 10]])\n",
        "MATRIX"
      ],
      "metadata": {
        "colab": {
          "base_uri": "https://localhost:8080/"
        },
        "id": "MddEANrHpIVo",
        "outputId": "58d0f702-b54f-4d96-e2b0-768c3a4009b7"
      },
      "execution_count": 8,
      "outputs": [
        {
          "output_type": "execute_result",
          "data": {
            "text/plain": [
              "tensor([[ 7,  8],\n",
              "        [ 9, 10]])"
            ]
          },
          "metadata": {},
          "execution_count": 8
        }
      ]
    },
    {
      "cell_type": "code",
      "source": [
        "MATRIX.ndim"
      ],
      "metadata": {
        "colab": {
          "base_uri": "https://localhost:8080/"
        },
        "id": "7hfFhHqtpmXA",
        "outputId": "fff40e6d-1750-4a4f-89ac-7f6816728a2f"
      },
      "execution_count": 9,
      "outputs": [
        {
          "output_type": "execute_result",
          "data": {
            "text/plain": [
              "2"
            ]
          },
          "metadata": {},
          "execution_count": 9
        }
      ]
    },
    {
      "cell_type": "code",
      "source": [
        "MATRIX.shape"
      ],
      "metadata": {
        "colab": {
          "base_uri": "https://localhost:8080/"
        },
        "id": "u6M2BPHDpuMf",
        "outputId": "a39c08a6-8083-4c08-b7a9-4cdc3b925335"
      },
      "execution_count": 10,
      "outputs": [
        {
          "output_type": "execute_result",
          "data": {
            "text/plain": [
              "torch.Size([2, 2])"
            ]
          },
          "metadata": {},
          "execution_count": 10
        }
      ]
    },
    {
      "cell_type": "code",
      "source": [
        "MATRIX[1]"
      ],
      "metadata": {
        "colab": {
          "base_uri": "https://localhost:8080/"
        },
        "id": "dubQmtZFpyIo",
        "outputId": "93522b2d-aabb-46e9-df3c-b9933adcb60e"
      },
      "execution_count": 11,
      "outputs": [
        {
          "output_type": "execute_result",
          "data": {
            "text/plain": [
              "tensor([ 9, 10])"
            ]
          },
          "metadata": {},
          "execution_count": 11
        }
      ]
    },
    {
      "cell_type": "code",
      "source": [
        "# Tensor\n",
        "TENSOR = torch.tensor([[[1,2,3],\n",
        "                        [3,4,5],\n",
        "                        [6,7,8]]])\n",
        "TENSOR"
      ],
      "metadata": {
        "colab": {
          "base_uri": "https://localhost:8080/"
        },
        "id": "QU8kZ1vsp1qU",
        "outputId": "c30b8f10-56f1-4044-b177-eaf34e82d092"
      },
      "execution_count": 12,
      "outputs": [
        {
          "output_type": "execute_result",
          "data": {
            "text/plain": [
              "tensor([[[1, 2, 3],\n",
              "         [3, 4, 5],\n",
              "         [6, 7, 8]]])"
            ]
          },
          "metadata": {},
          "execution_count": 12
        }
      ]
    },
    {
      "cell_type": "code",
      "source": [
        "TENSOR.ndim"
      ],
      "metadata": {
        "colab": {
          "base_uri": "https://localhost:8080/"
        },
        "id": "s_NBbdPTrFbZ",
        "outputId": "57ff11a1-2d1b-4931-cb78-15596451c534"
      },
      "execution_count": 13,
      "outputs": [
        {
          "output_type": "execute_result",
          "data": {
            "text/plain": [
              "3"
            ]
          },
          "metadata": {},
          "execution_count": 13
        }
      ]
    },
    {
      "cell_type": "code",
      "source": [
        "TENSOR.shape # Has one 3 by 3"
      ],
      "metadata": {
        "colab": {
          "base_uri": "https://localhost:8080/"
        },
        "id": "c9spHXicrKdd",
        "outputId": "3386a3d0-1fd6-4a8c-a7a2-2b587e77610b"
      },
      "execution_count": 14,
      "outputs": [
        {
          "output_type": "execute_result",
          "data": {
            "text/plain": [
              "torch.Size([1, 3, 3])"
            ]
          },
          "metadata": {},
          "execution_count": 14
        }
      ]
    },
    {
      "cell_type": "code",
      "source": [
        "TENSOR[0]"
      ],
      "metadata": {
        "colab": {
          "base_uri": "https://localhost:8080/"
        },
        "id": "YlKhuFEMrL5c",
        "outputId": "20b0a6ec-af6d-4cea-cad2-2d9d174f7776"
      },
      "execution_count": 15,
      "outputs": [
        {
          "output_type": "execute_result",
          "data": {
            "text/plain": [
              "tensor([[1, 2, 3],\n",
              "        [3, 4, 5],\n",
              "        [6, 7, 8]])"
            ]
          },
          "metadata": {},
          "execution_count": 15
        }
      ]
    },
    {
      "cell_type": "code",
      "source": [
        "TENSOR2 = torch.tensor([[[1,2,3],\n",
        "                        [3,4,5],\n",
        "                        [6,7,8]],\n",
        "                        [[10,11,12],\n",
        "                         [13,14,15],\n",
        "                         [16,17,18]]])"
      ],
      "metadata": {
        "id": "GtbJYe_VreOC"
      },
      "execution_count": 16,
      "outputs": []
    },
    {
      "cell_type": "code",
      "source": [
        "TENSOR2.ndim"
      ],
      "metadata": {
        "colab": {
          "base_uri": "https://localhost:8080/"
        },
        "id": "upK9Tew_sSpH",
        "outputId": "48899800-0334-46d2-9a7d-988a12e0fdab"
      },
      "execution_count": 17,
      "outputs": [
        {
          "output_type": "execute_result",
          "data": {
            "text/plain": [
              "3"
            ]
          },
          "metadata": {},
          "execution_count": 17
        }
      ]
    },
    {
      "cell_type": "code",
      "source": [
        "TENSOR2.shape"
      ],
      "metadata": {
        "colab": {
          "base_uri": "https://localhost:8080/"
        },
        "id": "0CL5T03asV7T",
        "outputId": "25a73948-2768-43da-e90c-d2921d0bf3fe"
      },
      "execution_count": 18,
      "outputs": [
        {
          "output_type": "execute_result",
          "data": {
            "text/plain": [
              "torch.Size([2, 3, 3])"
            ]
          },
          "metadata": {},
          "execution_count": 18
        }
      ]
    },
    {
      "cell_type": "code",
      "source": [
        "TENSOR2[0]"
      ],
      "metadata": {
        "colab": {
          "base_uri": "https://localhost:8080/"
        },
        "id": "IAfcLVpvsZuU",
        "outputId": "a9a17aff-f4ef-45ba-c1dd-d69374f9bdac"
      },
      "execution_count": 19,
      "outputs": [
        {
          "output_type": "execute_result",
          "data": {
            "text/plain": [
              "tensor([[1, 2, 3],\n",
              "        [3, 4, 5],\n",
              "        [6, 7, 8]])"
            ]
          },
          "metadata": {},
          "execution_count": 19
        }
      ]
    },
    {
      "cell_type": "code",
      "source": [
        "TENSOR2[1]"
      ],
      "metadata": {
        "colab": {
          "base_uri": "https://localhost:8080/"
        },
        "id": "FhNZVn6dsco4",
        "outputId": "9a468ac7-8280-4090-a2c1-303882a2a2ba"
      },
      "execution_count": 20,
      "outputs": [
        {
          "output_type": "execute_result",
          "data": {
            "text/plain": [
              "tensor([[10, 11, 12],\n",
              "        [13, 14, 15],\n",
              "        [16, 17, 18]])"
            ]
          },
          "metadata": {},
          "execution_count": 20
        }
      ]
    },
    {
      "cell_type": "code",
      "source": [
        "TENSOR3 = torch.tensor([[[1,2,3,1],\n",
        "                        [3,4,5,1],\n",
        "                        [6,7,8,1],\n",
        "                         [1,2,3,1]],\n",
        "                        [[10,11,12,1],\n",
        "                         [13,14,15,1],\n",
        "                         [16,17,18,1],\n",
        "                         [10,11,12,1]]])"
      ],
      "metadata": {
        "id": "w-wGs0mZsgWg"
      },
      "execution_count": 21,
      "outputs": []
    },
    {
      "cell_type": "code",
      "source": [
        "TENSOR3.ndim"
      ],
      "metadata": {
        "colab": {
          "base_uri": "https://localhost:8080/"
        },
        "id": "wa1a0HoatDbK",
        "outputId": "c82cd8d2-4eda-4b98-a17e-f74c95b74ba3"
      },
      "execution_count": 22,
      "outputs": [
        {
          "output_type": "execute_result",
          "data": {
            "text/plain": [
              "3"
            ]
          },
          "metadata": {},
          "execution_count": 22
        }
      ]
    },
    {
      "cell_type": "code",
      "source": [
        "TENSOR3.shape"
      ],
      "metadata": {
        "colab": {
          "base_uri": "https://localhost:8080/"
        },
        "id": "ogFF_vzdtF4v",
        "outputId": "38d0a5fa-9b11-4f3e-a1a1-32a2d4999be6"
      },
      "execution_count": 23,
      "outputs": [
        {
          "output_type": "execute_result",
          "data": {
            "text/plain": [
              "torch.Size([2, 4, 4])"
            ]
          },
          "metadata": {},
          "execution_count": 23
        }
      ]
    },
    {
      "cell_type": "markdown",
      "source": [
        "### Random Tensors\n",
        "\n",
        "Why random tensors?\n",
        "Random Tensors are important because the way many neural networks learn is that they start with tensors full of random numbers and then adjust those random numbers to better represent the data.\n",
        "\n",
        "'Start with random numbers -> look at data -> update random numbers -> look at data -> update random numbers'\n",
        "\n",
        "Torch random tensors: https://pytorch.org/docs/stable/generated/torch.rand.html"
      ],
      "metadata": {
        "id": "JSOhm5G-tQhS"
      }
    },
    {
      "cell_type": "code",
      "source": [
        "# Create a random tensor of size (3, 4)\n",
        "random_tensor = torch.rand(3, 4)\n",
        "random_tensor"
      ],
      "metadata": {
        "colab": {
          "base_uri": "https://localhost:8080/"
        },
        "id": "9TuDfWAEuYKd",
        "outputId": "216876c9-a921-4528-9ff7-f60e28c4c970"
      },
      "execution_count": 24,
      "outputs": [
        {
          "output_type": "execute_result",
          "data": {
            "text/plain": [
              "tensor([[0.4618, 0.7484, 0.5211, 0.1312],\n",
              "        [0.5274, 0.7146, 0.3733, 0.5340],\n",
              "        [0.3465, 0.9517, 0.3546, 0.1301]])"
            ]
          },
          "metadata": {},
          "execution_count": 24
        }
      ]
    },
    {
      "cell_type": "code",
      "source": [
        "# Create a random tensor of size (5, 10, 10)\n",
        "random_tensor2 = torch.rand(5, 10, 10)\n",
        "random_tensor2"
      ],
      "metadata": {
        "colab": {
          "base_uri": "https://localhost:8080/"
        },
        "id": "rQ9AtdoKw5oq",
        "outputId": "00bdff2d-32f8-45fd-adc7-f11c09debdf1"
      },
      "execution_count": 25,
      "outputs": [
        {
          "output_type": "execute_result",
          "data": {
            "text/plain": [
              "tensor([[[0.7061, 0.0026, 0.3477, 0.6006, 0.9405, 0.9637, 0.3918, 0.8153,\n",
              "          0.2129, 0.7278],\n",
              "         [0.2357, 0.4626, 0.8300, 0.0769, 0.8627, 0.1638, 0.8644, 0.2863,\n",
              "          0.7252, 0.0141],\n",
              "         [0.8286, 0.2637, 0.8245, 0.4986, 0.6741, 0.5453, 0.5360, 0.2516,\n",
              "          0.6989, 0.3445],\n",
              "         [0.8235, 0.3342, 0.4982, 0.8984, 0.1756, 0.1395, 0.2536, 0.6207,\n",
              "          0.2122, 0.5261],\n",
              "         [0.8085, 0.5703, 0.5592, 0.4646, 0.4462, 0.4533, 0.7446, 0.5663,\n",
              "          0.9289, 0.8020],\n",
              "         [0.1613, 0.6919, 0.7060, 0.7297, 0.4822, 0.3537, 0.2120, 0.3338,\n",
              "          0.4007, 0.0560],\n",
              "         [0.5157, 0.9279, 0.4984, 0.4907, 0.0929, 0.2103, 0.3140, 0.0719,\n",
              "          0.4483, 0.1145],\n",
              "         [0.8719, 0.7503, 0.0756, 0.4159, 0.6847, 0.8252, 0.6202, 0.7444,\n",
              "          0.5870, 0.7005],\n",
              "         [0.6876, 0.8221, 0.9640, 0.3332, 0.1224, 0.7083, 0.2589, 0.1955,\n",
              "          0.6667, 0.6935],\n",
              "         [0.2251, 0.2456, 0.6372, 0.8680, 0.9441, 0.3497, 0.9837, 0.0547,\n",
              "          0.2550, 0.9112]],\n",
              "\n",
              "        [[0.9760, 0.6166, 0.4872, 0.3244, 0.1740, 0.0158, 0.0893, 0.2344,\n",
              "          0.5057, 0.9077],\n",
              "         [0.0609, 0.2487, 0.7475, 0.3443, 0.7133, 0.5424, 0.4177, 0.2875,\n",
              "          0.1149, 0.8990],\n",
              "         [0.4023, 0.5152, 0.6894, 0.1030, 0.2421, 0.5828, 0.1215, 0.0117,\n",
              "          0.9138, 0.1789],\n",
              "         [0.9257, 0.1693, 0.9435, 0.2348, 0.0209, 0.7483, 0.2778, 0.4778,\n",
              "          0.3315, 0.1316],\n",
              "         [0.0489, 0.3158, 0.2721, 0.6423, 0.9636, 0.4453, 0.9561, 0.1886,\n",
              "          0.7842, 0.1118],\n",
              "         [0.2696, 0.8685, 0.9791, 0.0669, 0.2373, 0.9584, 0.6784, 0.5533,\n",
              "          0.0916, 0.0556],\n",
              "         [0.3414, 0.7864, 0.3209, 0.9186, 0.1211, 0.9511, 0.1672, 0.5141,\n",
              "          0.1004, 0.5832],\n",
              "         [0.0273, 0.8313, 0.1565, 0.6284, 0.3833, 0.2860, 0.5357, 0.9462,\n",
              "          0.3521, 0.4133],\n",
              "         [0.2411, 0.6783, 0.3753, 0.7042, 0.7817, 0.4732, 0.2740, 0.7580,\n",
              "          0.4903, 0.4564],\n",
              "         [0.4302, 0.6238, 0.6276, 0.5722, 0.8074, 0.2639, 0.0021, 0.7836,\n",
              "          0.8942, 0.2299]],\n",
              "\n",
              "        [[0.7677, 0.2033, 0.6506, 0.0205, 0.3892, 0.1278, 0.1311, 0.4081,\n",
              "          0.9221, 0.4264],\n",
              "         [0.6797, 0.2951, 0.7087, 0.2698, 0.2175, 0.3178, 0.5675, 0.2249,\n",
              "          0.4052, 0.0118],\n",
              "         [0.6516, 0.1455, 0.7728, 0.5801, 0.2392, 0.4289, 0.0197, 0.4413,\n",
              "          0.4832, 0.8256],\n",
              "         [0.6263, 0.7434, 0.1475, 0.0151, 0.2772, 0.6215, 0.1525, 0.8798,\n",
              "          0.5594, 0.2909],\n",
              "         [0.1282, 0.7052, 0.2360, 0.1419, 0.1340, 0.0450, 0.9961, 0.4567,\n",
              "          0.6997, 0.5641],\n",
              "         [0.0928, 0.5281, 0.3139, 0.6869, 0.8781, 0.5081, 0.1445, 0.6941,\n",
              "          0.5066, 0.9404],\n",
              "         [0.8621, 0.4499, 0.4228, 0.7152, 0.3421, 0.4072, 0.2407, 0.8037,\n",
              "          0.7294, 0.9945],\n",
              "         [0.5188, 0.8295, 0.8585, 0.4879, 0.7261, 0.4945, 0.8930, 0.3461,\n",
              "          0.4555, 0.3416],\n",
              "         [0.1772, 0.3502, 0.9109, 0.6254, 0.9283, 0.7446, 0.8122, 0.4680,\n",
              "          0.8580, 0.5062],\n",
              "         [0.5287, 0.8694, 0.3246, 0.7702, 0.8907, 0.3223, 0.7043, 0.4747,\n",
              "          0.6121, 0.6979]],\n",
              "\n",
              "        [[0.3497, 0.7541, 0.3764, 0.9038, 0.2409, 0.7694, 0.3769, 0.2102,\n",
              "          0.0484, 0.9433],\n",
              "         [0.4239, 0.7903, 0.4468, 0.7705, 0.7398, 0.1615, 0.5997, 0.8104,\n",
              "          0.2210, 0.4142],\n",
              "         [0.1173, 0.2499, 0.8548, 0.2560, 0.0671, 0.7813, 0.6889, 0.7880,\n",
              "          0.0332, 0.1875],\n",
              "         [0.8691, 0.9674, 0.2961, 0.7276, 0.3211, 0.3304, 0.4510, 0.6381,\n",
              "          0.0176, 0.3012],\n",
              "         [0.9234, 0.0012, 0.3862, 0.0541, 0.7649, 0.8473, 0.9865, 0.4639,\n",
              "          0.9899, 0.0303],\n",
              "         [0.0438, 0.9114, 0.9961, 0.7890, 0.5257, 0.1781, 0.5784, 0.3605,\n",
              "          0.7590, 0.3649],\n",
              "         [0.4586, 0.8153, 0.1155, 0.6417, 0.8468, 0.3954, 0.5695, 0.1348,\n",
              "          0.4991, 0.2610],\n",
              "         [0.9123, 0.8213, 0.2953, 0.0688, 0.6170, 0.9659, 0.0668, 0.3611,\n",
              "          0.0279, 0.9130],\n",
              "         [0.2302, 0.8168, 0.3783, 0.0596, 0.9513, 0.5243, 0.0052, 0.4725,\n",
              "          0.9593, 0.7238],\n",
              "         [0.0408, 0.1749, 0.6523, 0.9408, 0.0867, 0.0504, 0.6436, 0.9057,\n",
              "          0.6840, 0.7490]],\n",
              "\n",
              "        [[0.8677, 0.0754, 0.0356, 0.1280, 0.9333, 0.9487, 0.5965, 0.6587,\n",
              "          0.1052, 0.3212],\n",
              "         [0.0297, 0.6788, 0.9028, 0.4852, 0.0071, 0.0712, 0.4971, 0.9284,\n",
              "          0.8221, 0.4683],\n",
              "         [0.9961, 0.2345, 0.4382, 0.4826, 0.5653, 0.9082, 0.7377, 0.4970,\n",
              "          0.0141, 0.6193],\n",
              "         [0.7190, 0.0159, 0.2499, 0.2555, 0.0222, 0.4673, 0.7512, 0.5496,\n",
              "          0.2601, 0.6343],\n",
              "         [0.2105, 0.0692, 0.0707, 0.4222, 0.8419, 0.8037, 0.1845, 0.7864,\n",
              "          0.0039, 0.7823],\n",
              "         [0.5360, 0.7594, 0.7641, 0.3397, 0.8031, 0.1388, 0.2915, 0.6985,\n",
              "          0.5923, 0.3887],\n",
              "         [0.1192, 0.6315, 0.5290, 0.4811, 0.4276, 0.9625, 0.4328, 0.0413,\n",
              "          0.0716, 0.5601],\n",
              "         [0.2132, 0.3118, 0.4157, 0.7614, 0.9495, 0.3439, 0.1745, 0.2722,\n",
              "          0.0828, 0.2061],\n",
              "         [0.9723, 0.4432, 0.5857, 0.8577, 0.2288, 0.7112, 0.2470, 0.7880,\n",
              "          0.9524, 0.7549],\n",
              "         [0.1276, 0.5872, 0.6601, 0.5120, 0.9572, 0.0553, 0.1297, 0.0167,\n",
              "          0.5779, 0.5727]]])"
            ]
          },
          "metadata": {},
          "execution_count": 25
        }
      ]
    },
    {
      "cell_type": "code",
      "source": [
        "# Create a random tensor with similar shape to an image tensor\n",
        "random_image_size_tensor = torch.rand(size=(3, 224, 224)) # colour channels (R, G, B), height, width\n",
        "random_image_size_tensor.shape, random_image_size_tensor.ndim"
      ],
      "metadata": {
        "colab": {
          "base_uri": "https://localhost:8080/"
        },
        "id": "BdkWDu9Au0G_",
        "outputId": "48e39e5d-3c0d-4691-dd4d-6e30ea89b755"
      },
      "execution_count": 26,
      "outputs": [
        {
          "output_type": "execute_result",
          "data": {
            "text/plain": [
              "(torch.Size([3, 224, 224]), 3)"
            ]
          },
          "metadata": {},
          "execution_count": 26
        }
      ]
    },
    {
      "cell_type": "markdown",
      "source": [
        "### Zeroes and ones"
      ],
      "metadata": {
        "id": "YLWAlgD-u6Lz"
      }
    },
    {
      "cell_type": "code",
      "source": [
        "# Create a tensor of all zeroes\n",
        "zeros = torch.zeros(3, 4)\n",
        "zeros"
      ],
      "metadata": {
        "colab": {
          "base_uri": "https://localhost:8080/"
        },
        "id": "6MPEALv8xOVt",
        "outputId": "c16d8be4-e964-48af-dcda-fc7f645c6972"
      },
      "execution_count": 27,
      "outputs": [
        {
          "output_type": "execute_result",
          "data": {
            "text/plain": [
              "tensor([[0., 0., 0., 0.],\n",
              "        [0., 0., 0., 0.],\n",
              "        [0., 0., 0., 0.]])"
            ]
          },
          "metadata": {},
          "execution_count": 27
        }
      ]
    },
    {
      "cell_type": "code",
      "source": [
        "zeros*random_tensor"
      ],
      "metadata": {
        "colab": {
          "base_uri": "https://localhost:8080/"
        },
        "id": "t5nnTXIdxatz",
        "outputId": "b135d828-6cc2-4a5e-be30-9ad01a3d94bd"
      },
      "execution_count": 28,
      "outputs": [
        {
          "output_type": "execute_result",
          "data": {
            "text/plain": [
              "tensor([[0., 0., 0., 0.],\n",
              "        [0., 0., 0., 0.],\n",
              "        [0., 0., 0., 0.]])"
            ]
          },
          "metadata": {},
          "execution_count": 28
        }
      ]
    },
    {
      "cell_type": "code",
      "source": [
        "# Create a tensor of all ones\n",
        "ones = torch.ones(size=(3, 4))\n",
        "ones"
      ],
      "metadata": {
        "colab": {
          "base_uri": "https://localhost:8080/"
        },
        "id": "xjyC-KgIxhff",
        "outputId": "bd9e32e2-b697-411a-f908-bf73cc058c5b"
      },
      "execution_count": 29,
      "outputs": [
        {
          "output_type": "execute_result",
          "data": {
            "text/plain": [
              "tensor([[1., 1., 1., 1.],\n",
              "        [1., 1., 1., 1.],\n",
              "        [1., 1., 1., 1.]])"
            ]
          },
          "metadata": {},
          "execution_count": 29
        }
      ]
    },
    {
      "cell_type": "code",
      "source": [
        "ones.dtype"
      ],
      "metadata": {
        "colab": {
          "base_uri": "https://localhost:8080/"
        },
        "id": "g5xPzizixq6d",
        "outputId": "5efbb622-fe52-400a-8cf6-9bf3a1974db8"
      },
      "execution_count": 30,
      "outputs": [
        {
          "output_type": "execute_result",
          "data": {
            "text/plain": [
              "torch.float32"
            ]
          },
          "metadata": {},
          "execution_count": 30
        }
      ]
    },
    {
      "cell_type": "code",
      "source": [
        "random_tensor.dtype"
      ],
      "metadata": {
        "colab": {
          "base_uri": "https://localhost:8080/"
        },
        "id": "TISnT6Qexy8n",
        "outputId": "50642506-ff30-4bac-f282-93e742577d43"
      },
      "execution_count": 31,
      "outputs": [
        {
          "output_type": "execute_result",
          "data": {
            "text/plain": [
              "torch.float32"
            ]
          },
          "metadata": {},
          "execution_count": 31
        }
      ]
    },
    {
      "cell_type": "markdown",
      "source": [
        "### Creating a range of tensors and tensors-like"
      ],
      "metadata": {
        "id": "5OfCaBNdx2CS"
      }
    },
    {
      "cell_type": "code",
      "source": [
        "# Use torch.range() and get depracted message, use torch.arange()\n",
        "one_to_ten = torch.arange(start=1, end=11, step=1)\n",
        "one_to_ten"
      ],
      "metadata": {
        "colab": {
          "base_uri": "https://localhost:8080/"
        },
        "id": "b7O5O2vMyCrn",
        "outputId": "932774b0-47f6-4b76-a0c3-6b3b1531dde5"
      },
      "execution_count": 32,
      "outputs": [
        {
          "output_type": "execute_result",
          "data": {
            "text/plain": [
              "tensor([ 1,  2,  3,  4,  5,  6,  7,  8,  9, 10])"
            ]
          },
          "metadata": {},
          "execution_count": 32
        }
      ]
    },
    {
      "cell_type": "code",
      "source": [
        "# Creating tensors like\n",
        "ten_zeros = torch.zeros_like(input=one_to_ten)\n",
        "ten_zeros"
      ],
      "metadata": {
        "colab": {
          "base_uri": "https://localhost:8080/"
        },
        "id": "h-b30L_VyJjJ",
        "outputId": "f7b7ce58-ab30-414d-f206-f2231c2fe517"
      },
      "execution_count": 33,
      "outputs": [
        {
          "output_type": "execute_result",
          "data": {
            "text/plain": [
              "tensor([0, 0, 0, 0, 0, 0, 0, 0, 0, 0])"
            ]
          },
          "metadata": {},
          "execution_count": 33
        }
      ]
    },
    {
      "cell_type": "code",
      "source": [
        "# tensor of ones same shape as image size tensor\n",
        "random_image_size_tensor_ones = torch.ones_like(random_image_size_tensor)\n",
        "random_image_size_tensor_ones"
      ],
      "metadata": {
        "colab": {
          "base_uri": "https://localhost:8080/"
        },
        "id": "DCMLo2ZQzH5K",
        "outputId": "c534478a-ca36-4e2e-f739-8199f76e0273"
      },
      "execution_count": 34,
      "outputs": [
        {
          "output_type": "execute_result",
          "data": {
            "text/plain": [
              "tensor([[[1., 1., 1.,  ..., 1., 1., 1.],\n",
              "         [1., 1., 1.,  ..., 1., 1., 1.],\n",
              "         [1., 1., 1.,  ..., 1., 1., 1.],\n",
              "         ...,\n",
              "         [1., 1., 1.,  ..., 1., 1., 1.],\n",
              "         [1., 1., 1.,  ..., 1., 1., 1.],\n",
              "         [1., 1., 1.,  ..., 1., 1., 1.]],\n",
              "\n",
              "        [[1., 1., 1.,  ..., 1., 1., 1.],\n",
              "         [1., 1., 1.,  ..., 1., 1., 1.],\n",
              "         [1., 1., 1.,  ..., 1., 1., 1.],\n",
              "         ...,\n",
              "         [1., 1., 1.,  ..., 1., 1., 1.],\n",
              "         [1., 1., 1.,  ..., 1., 1., 1.],\n",
              "         [1., 1., 1.,  ..., 1., 1., 1.]],\n",
              "\n",
              "        [[1., 1., 1.,  ..., 1., 1., 1.],\n",
              "         [1., 1., 1.,  ..., 1., 1., 1.],\n",
              "         [1., 1., 1.,  ..., 1., 1., 1.],\n",
              "         ...,\n",
              "         [1., 1., 1.,  ..., 1., 1., 1.],\n",
              "         [1., 1., 1.,  ..., 1., 1., 1.],\n",
              "         [1., 1., 1.,  ..., 1., 1., 1.]]])"
            ]
          },
          "metadata": {},
          "execution_count": 34
        }
      ]
    },
    {
      "cell_type": "markdown",
      "source": [
        "### Tensor datatypes\n",
        "\n",
        "**Note:** Tensor datatypes is one of the 3 most common issues you'll run into with PyTorch & deep learning:\n",
        "1. Tensors not right datatype\n",
        "2. Tensors not right shape\n",
        "3. Tensors not on the right device"
      ],
      "metadata": {
        "id": "7Fz8VSm7cwVA"
      }
    },
    {
      "cell_type": "code",
      "source": [
        "# Float 32 tensor\n",
        "float_32_tensor = torch.tensor([3.0, 6.0, 9.0],\n",
        "                               dtype=None, # what datatype is the tensor, e.g. float32, float16 (default is float32)\n",
        "                               device=\"cpu\", # what device is your tensor on, can't mix devices when working with tensors\n",
        "                               requires_grad=False) # whether or not to track gradients with this tensors operations\n",
        "float_32_tensor"
      ],
      "metadata": {
        "colab": {
          "base_uri": "https://localhost:8080/"
        },
        "id": "_IIaOvOadAe8",
        "outputId": "b887a3d5-768b-4f0f-f6e5-4ea50e6df47b"
      },
      "execution_count": 35,
      "outputs": [
        {
          "output_type": "execute_result",
          "data": {
            "text/plain": [
              "tensor([3., 6., 9.])"
            ]
          },
          "metadata": {},
          "execution_count": 35
        }
      ]
    },
    {
      "cell_type": "code",
      "source": [
        "float_32_tensor.dtype"
      ],
      "metadata": {
        "colab": {
          "base_uri": "https://localhost:8080/"
        },
        "id": "V6pRYsNTdRbP",
        "outputId": "c150a05e-6c92-40e3-89da-51466f0575ab"
      },
      "execution_count": 36,
      "outputs": [
        {
          "output_type": "execute_result",
          "data": {
            "text/plain": [
              "torch.float32"
            ]
          },
          "metadata": {},
          "execution_count": 36
        }
      ]
    },
    {
      "cell_type": "code",
      "source": [
        "float_16_tensor = float_32_tensor.type(torch.float16) # chamhe datatype of tensor\n",
        "float_16_tensor"
      ],
      "metadata": {
        "colab": {
          "base_uri": "https://localhost:8080/"
        },
        "id": "z79Aj1LydTol",
        "outputId": "55e812cd-12da-4c99-d335-38128c4f32c8"
      },
      "execution_count": 37,
      "outputs": [
        {
          "output_type": "execute_result",
          "data": {
            "text/plain": [
              "tensor([3., 6., 9.], dtype=torch.float16)"
            ]
          },
          "metadata": {},
          "execution_count": 37
        }
      ]
    },
    {
      "cell_type": "code",
      "source": [
        "float_complex_128 = float_32_tensor.type(torch.complex128) # Use of complex numbers representation of tensors\n",
        "float_complex_128"
      ],
      "metadata": {
        "colab": {
          "base_uri": "https://localhost:8080/"
        },
        "id": "19szvQ9Xfzyl",
        "outputId": "f3f0a681-d255-4aec-cd9e-fd7641160549"
      },
      "execution_count": 38,
      "outputs": [
        {
          "output_type": "execute_result",
          "data": {
            "text/plain": [
              "tensor([3.+0.j, 6.+0.j, 9.+0.j], dtype=torch.complex128)"
            ]
          },
          "metadata": {},
          "execution_count": 38
        }
      ]
    },
    {
      "cell_type": "code",
      "source": [
        "float_32_tensor*float_complex_128"
      ],
      "metadata": {
        "colab": {
          "base_uri": "https://localhost:8080/"
        },
        "id": "fVLggIxUgDvf",
        "outputId": "4db69cfd-4a79-4cb6-d2c5-bce789590a61"
      },
      "execution_count": 39,
      "outputs": [
        {
          "output_type": "execute_result",
          "data": {
            "text/plain": [
              "tensor([ 9.+0.j, 36.+0.j, 81.+0.j], dtype=torch.complex128)"
            ]
          },
          "metadata": {},
          "execution_count": 39
        }
      ]
    },
    {
      "cell_type": "code",
      "source": [
        "int_32_tensor = torch.tensor([3, 6, 9], dtype=torch.int32)\n",
        "int_32_tensor"
      ],
      "metadata": {
        "colab": {
          "base_uri": "https://localhost:8080/"
        },
        "id": "eZzAnO8ugMa_",
        "outputId": "93d283b7-cd44-4cba-8b65-b8699e897aca"
      },
      "execution_count": 40,
      "outputs": [
        {
          "output_type": "execute_result",
          "data": {
            "text/plain": [
              "tensor([3, 6, 9], dtype=torch.int32)"
            ]
          },
          "metadata": {},
          "execution_count": 40
        }
      ]
    },
    {
      "cell_type": "code",
      "source": [
        "int_64_tensor = torch.tensor([3, 6, 9], dtype=torch.int64)\n",
        "int_64_tensor"
      ],
      "metadata": {
        "colab": {
          "base_uri": "https://localhost:8080/"
        },
        "id": "7VHovfS-gmGn",
        "outputId": "be191b7e-88f8-44ec-9fd7-a8da8328c48b"
      },
      "execution_count": 41,
      "outputs": [
        {
          "output_type": "execute_result",
          "data": {
            "text/plain": [
              "tensor([3, 6, 9])"
            ]
          },
          "metadata": {},
          "execution_count": 41
        }
      ]
    },
    {
      "cell_type": "code",
      "source": [
        "float_32_tensor*int_32_tensor"
      ],
      "metadata": {
        "colab": {
          "base_uri": "https://localhost:8080/"
        },
        "id": "2S0y2xK4gcc7",
        "outputId": "d4f60bbd-9437-45dc-f54b-3fa665e4f8ae"
      },
      "execution_count": 42,
      "outputs": [
        {
          "output_type": "execute_result",
          "data": {
            "text/plain": [
              "tensor([ 9., 36., 81.])"
            ]
          },
          "metadata": {},
          "execution_count": 42
        }
      ]
    },
    {
      "cell_type": "code",
      "source": [
        "float_16_tensor*int_64_tensor"
      ],
      "metadata": {
        "colab": {
          "base_uri": "https://localhost:8080/"
        },
        "id": "0HllgqN0gjj0",
        "outputId": "6ef49169-c5be-47bf-81e9-44c93bd955d6"
      },
      "execution_count": 43,
      "outputs": [
        {
          "output_type": "execute_result",
          "data": {
            "text/plain": [
              "tensor([ 9., 36., 81.], dtype=torch.float16)"
            ]
          },
          "metadata": {},
          "execution_count": 43
        }
      ]
    },
    {
      "cell_type": "markdown",
      "source": [
        "### Getting information from tensors\n",
        "\n",
        "1. Tensors not right datatype - to get datatype from a tensor, can use 'tensor.dtype'\n",
        "2. Tensors not right shape - to get shape from a tensor, can use 'tensor.shape'\n",
        "3. Tensors not on the right device - to get device from a tensor, can use 'tensor.device'"
      ],
      "metadata": {
        "id": "bsFNIIsfgqww"
      }
    },
    {
      "cell_type": "code",
      "source": [
        "# Create a tensor\n",
        "some_tensor = torch.rand(3, 4)\n",
        "some_tensor"
      ],
      "metadata": {
        "colab": {
          "base_uri": "https://localhost:8080/"
        },
        "id": "bekTqZYjhfVh",
        "outputId": "8680fff2-c8a3-4a9d-cff3-c86e0a20870a"
      },
      "execution_count": 44,
      "outputs": [
        {
          "output_type": "execute_result",
          "data": {
            "text/plain": [
              "tensor([[0.4486, 0.8877, 0.4877, 0.8261],\n",
              "        [0.4241, 0.5163, 0.3275, 0.4214],\n",
              "        [0.0584, 0.4654, 0.0124, 0.2656]])"
            ]
          },
          "metadata": {},
          "execution_count": 44
        }
      ]
    },
    {
      "cell_type": "code",
      "source": [
        "some_tensor = some_tensor.type(torch.float16) # change datatype to \"float16\" from \"float32\""
      ],
      "metadata": {
        "id": "0LKwF19nie0F"
      },
      "execution_count": 45,
      "outputs": []
    },
    {
      "cell_type": "code",
      "source": [
        " # Find out details about some tensor\n",
        " print(some_tensor)\n",
        " print(f\"Datatype of tensor: {some_tensor.dtype}\")\n",
        " print(f\"Shape of tensor: {some_tensor.shape}\")\n",
        " print(f\"Device tensor is on: {some_tensor.device}\")"
      ],
      "metadata": {
        "colab": {
          "base_uri": "https://localhost:8080/"
        },
        "id": "MNBYDkg4ht0F",
        "outputId": "9e61032d-9c65-47e2-e418-041253837fa0"
      },
      "execution_count": 46,
      "outputs": [
        {
          "output_type": "stream",
          "name": "stdout",
          "text": [
            "tensor([[0.4485, 0.8877, 0.4878, 0.8262],\n",
            "        [0.4241, 0.5161, 0.3274, 0.4214],\n",
            "        [0.0584, 0.4653, 0.0124, 0.2656]], dtype=torch.float16)\n",
            "Datatype of tensor: torch.float16\n",
            "Shape of tensor: torch.Size([3, 4])\n",
            "Device tensor is on: cpu\n"
          ]
        }
      ]
    },
    {
      "cell_type": "markdown",
      "source": [
        "### Manipulating Tensors (tensor operations)\n",
        "\n",
        "Tensor operations include:\n",
        "* Addition\n",
        "* Subtraction\n",
        "* Multiplication (element-wise)\n",
        "* Division\n",
        "* Matrix multiplication"
      ],
      "metadata": {
        "id": "KHXXB3ariSsd"
      }
    },
    {
      "cell_type": "code",
      "source": [
        "# Create a tensor and add 10 to it\n",
        "tensor = torch.tensor([1, 2, 3])\n",
        "tensor + 10"
      ],
      "metadata": {
        "colab": {
          "base_uri": "https://localhost:8080/"
        },
        "id": "ocoV5S69jSbw",
        "outputId": "abd63b36-947f-4d4b-cf17-d7b01abc4d97"
      },
      "execution_count": 47,
      "outputs": [
        {
          "output_type": "execute_result",
          "data": {
            "text/plain": [
              "tensor([11, 12, 13])"
            ]
          },
          "metadata": {},
          "execution_count": 47
        }
      ]
    },
    {
      "cell_type": "code",
      "source": [
        "# MUltiply tensor by 10 (reassign)\n",
        "tensor*10"
      ],
      "metadata": {
        "colab": {
          "base_uri": "https://localhost:8080/"
        },
        "id": "jbY5sqO7jcvS",
        "outputId": "bc9d3f00-7152-4a9d-efd5-3a72154f9a44"
      },
      "execution_count": 48,
      "outputs": [
        {
          "output_type": "execute_result",
          "data": {
            "text/plain": [
              "tensor([10, 20, 30])"
            ]
          },
          "metadata": {},
          "execution_count": 48
        }
      ]
    },
    {
      "cell_type": "code",
      "source": [
        "tensor"
      ],
      "metadata": {
        "colab": {
          "base_uri": "https://localhost:8080/"
        },
        "id": "MzTc2RW1ji7_",
        "outputId": "7c73369f-03f4-4b80-c76e-d93cff4679d7"
      },
      "execution_count": 49,
      "outputs": [
        {
          "output_type": "execute_result",
          "data": {
            "text/plain": [
              "tensor([1, 2, 3])"
            ]
          },
          "metadata": {},
          "execution_count": 49
        }
      ]
    },
    {
      "cell_type": "code",
      "source": [
        "# Subtract 10\n",
        "tensor - 10"
      ],
      "metadata": {
        "colab": {
          "base_uri": "https://localhost:8080/"
        },
        "id": "-Q6hvRiajlQo",
        "outputId": "d71a8a78-6d2e-41cd-d697-cab89d0af613"
      },
      "execution_count": 50,
      "outputs": [
        {
          "output_type": "execute_result",
          "data": {
            "text/plain": [
              "tensor([-9, -8, -7])"
            ]
          },
          "metadata": {},
          "execution_count": 50
        }
      ]
    },
    {
      "cell_type": "code",
      "source": [
        "# Try out PyTorch in-built functions\n",
        "print(torch.mul(tensor, 10))\n",
        "print(torch.add(tensor, 10))"
      ],
      "metadata": {
        "colab": {
          "base_uri": "https://localhost:8080/"
        },
        "id": "M7LY6P_Ij1o7",
        "outputId": "44f88698-ee87-4b8a-b33b-bffb758014d8"
      },
      "execution_count": 51,
      "outputs": [
        {
          "output_type": "stream",
          "name": "stdout",
          "text": [
            "tensor([10, 20, 30])\n",
            "tensor([11, 12, 13])\n"
          ]
        }
      ]
    },
    {
      "cell_type": "markdown",
      "source": [
        "### Matrix multiplication\n",
        "\n",
        "Two main ways of performing multiplication in neural netwoks and deep learning:\n",
        "\n",
        "1. Element-wise multiplication\n",
        "2. Matrix multiplication (dot product of rows and columns)\n",
        "\n",
        "More information on multiplying matrices:\n",
        "* https://www.mathsisfun.com/algebra/matrix-multiplying.html\n",
        "* http://matrixmultiplication.xyz/\n",
        "\n",
        "There are two main rules performing matrix multiplication needs to satisfy:\n",
        "1. The **inner dimensions** must match (**1st tensor must have same number of columns as number of rows of 2nd tensor**):\n",
        "* '(3, 2) @ (3, 2)' won't work\n",
        "* '(2, 3) @ (3, 2)' will work\n",
        "* '(3, 2) @ (2, 3)' will work\n",
        "2. The resulting matrix has the shape of the **outer dimensions**:\n",
        "* '(2, 3) @ (3, 2)' -> '(2, 2)'\n",
        "* '(3, 2) @ (2, 3)' -> '(3, 3)'"
      ],
      "metadata": {
        "id": "x8Z2S_42kiFQ"
      }
    },
    {
      "cell_type": "code",
      "source": [
        "torch.matmul(torch.rand(2, 3), torch.rand(3, 2))"
      ],
      "metadata": {
        "colab": {
          "base_uri": "https://localhost:8080/"
        },
        "id": "2d4LrMf3sT63",
        "outputId": "c1c3caf8-f72f-4e87-eb98-1446cd918f1b"
      },
      "execution_count": 52,
      "outputs": [
        {
          "output_type": "execute_result",
          "data": {
            "text/plain": [
              "tensor([[0.8586, 0.6506],\n",
              "        [1.1254, 1.1408]])"
            ]
          },
          "metadata": {},
          "execution_count": 52
        }
      ]
    },
    {
      "cell_type": "code",
      "source": [
        "torch.matmul(torch.rand(3, 2), torch.rand(2, 3))"
      ],
      "metadata": {
        "colab": {
          "base_uri": "https://localhost:8080/"
        },
        "id": "vnou9T4WsKRF",
        "outputId": "cc874028-9a9a-45ac-db62-25259e09b0f7"
      },
      "execution_count": 53,
      "outputs": [
        {
          "output_type": "execute_result",
          "data": {
            "text/plain": [
              "tensor([[0.2291, 0.0772, 0.0708],\n",
              "        [0.1722, 0.1329, 0.0585],\n",
              "        [0.3519, 0.1642, 0.1120]])"
            ]
          },
          "metadata": {},
          "execution_count": 53
        }
      ]
    },
    {
      "cell_type": "code",
      "source": [
        "# Element wise multiplication\n",
        "print(tensor, \"*\", tensor)\n",
        "print(f\"Equals: {tensor * tensor}\")"
      ],
      "metadata": {
        "colab": {
          "base_uri": "https://localhost:8080/"
        },
        "id": "NJ5urzMWkXTG",
        "outputId": "60fe350d-13c2-42f3-9923-c06e355c1ab8"
      },
      "execution_count": 54,
      "outputs": [
        {
          "output_type": "stream",
          "name": "stdout",
          "text": [
            "tensor([1, 2, 3]) * tensor([1, 2, 3])\n",
            "Equals: tensor([1, 4, 9])\n"
          ]
        }
      ]
    },
    {
      "cell_type": "code",
      "source": [
        "# Matrix multiplication\n",
        "torch.matmul(tensor, tensor) # dot product of row and column (in this case vector so only 1 row and 1 column)"
      ],
      "metadata": {
        "colab": {
          "base_uri": "https://localhost:8080/"
        },
        "id": "PCy2uIjpmEoF",
        "outputId": "48bdc8db-5fb8-4f8f-ad87-357d780edd85"
      },
      "execution_count": 55,
      "outputs": [
        {
          "output_type": "execute_result",
          "data": {
            "text/plain": [
              "tensor(14)"
            ]
          },
          "metadata": {},
          "execution_count": 55
        }
      ]
    },
    {
      "cell_type": "code",
      "source": [
        "tensor"
      ],
      "metadata": {
        "colab": {
          "base_uri": "https://localhost:8080/"
        },
        "id": "v286zWTyme6b",
        "outputId": "df3a89b0-a3e9-4e01-c87e-e5ca0fec4399"
      },
      "execution_count": 56,
      "outputs": [
        {
          "output_type": "execute_result",
          "data": {
            "text/plain": [
              "tensor([1, 2, 3])"
            ]
          },
          "metadata": {},
          "execution_count": 56
        }
      ]
    },
    {
      "cell_type": "code",
      "source": [
        "# Matrix multiplication by hand\n",
        "1*1 + 2*2 + 3*3"
      ],
      "metadata": {
        "colab": {
          "base_uri": "https://localhost:8080/"
        },
        "id": "2fvGHswqmzKT",
        "outputId": "4a5eb3e2-9b99-46f8-d3fb-8d60af3fbba2"
      },
      "execution_count": 57,
      "outputs": [
        {
          "output_type": "execute_result",
          "data": {
            "text/plain": [
              "14"
            ]
          },
          "metadata": {},
          "execution_count": 57
        }
      ]
    },
    {
      "cell_type": "code",
      "source": [
        "%%time\n",
        "value = 0\n",
        "for i in range(len(tensor)):\n",
        "  value += tensor[i]*tensor[i]\n",
        "value"
      ],
      "metadata": {
        "colab": {
          "base_uri": "https://localhost:8080/"
        },
        "id": "U3lEd-NUm783",
        "outputId": "66312093-b7d5-4dff-8df6-ab3282ff71d2"
      },
      "execution_count": 58,
      "outputs": [
        {
          "output_type": "stream",
          "name": "stdout",
          "text": [
            "CPU times: user 242 µs, sys: 0 ns, total: 242 µs\n",
            "Wall time: 248 µs\n"
          ]
        },
        {
          "output_type": "execute_result",
          "data": {
            "text/plain": [
              "tensor(14)"
            ]
          },
          "metadata": {},
          "execution_count": 58
        }
      ]
    },
    {
      "cell_type": "code",
      "source": [
        "%%time\n",
        "torch.matmul(tensor, tensor)"
      ],
      "metadata": {
        "colab": {
          "base_uri": "https://localhost:8080/"
        },
        "id": "9u3maMkxnseD",
        "outputId": "4b9bc90b-3451-4b2b-ba97-0c02c7016b43"
      },
      "execution_count": 59,
      "outputs": [
        {
          "output_type": "stream",
          "name": "stdout",
          "text": [
            "CPU times: user 1.74 ms, sys: 0 ns, total: 1.74 ms\n",
            "Wall time: 2.21 ms\n"
          ]
        },
        {
          "output_type": "execute_result",
          "data": {
            "text/plain": [
              "tensor(14)"
            ]
          },
          "metadata": {},
          "execution_count": 59
        }
      ]
    },
    {
      "cell_type": "markdown",
      "source": [
        "### One of the most common errors in deep learning: shape errors\n"
      ],
      "metadata": {
        "id": "Mb89Fbx-oK00"
      }
    },
    {
      "cell_type": "code",
      "source": [
        " # Shapes for matrix multiplication\n",
        "tensor_A = torch.tensor([[1, 2],\n",
        "                        [3, 4],\n",
        "                        [5, 6]])\n",
        "\n",
        "tensor_B = torch.tensor([[7, 10],\n",
        "                         [8, 11],\n",
        "                         [9, 12]])\n",
        "\n",
        "# torch.mm(tensor_A, tensor_B) # torch.mm is the same as torch.matmul (it's an alias for writing less code)\n",
        "# torch.matmul(tensor_A, tensor_B) will return a shape error"
      ],
      "metadata": {
        "id": "IOmIgOn6qBoK"
      },
      "execution_count": 60,
      "outputs": []
    },
    {
      "cell_type": "code",
      "source": [
        "tensor_A.shape, tensor_B.shape"
      ],
      "metadata": {
        "colab": {
          "base_uri": "https://localhost:8080/"
        },
        "id": "BFwykYeB34ma",
        "outputId": "fb8acca1-9efe-4952-ec6b-2a2875f09beb"
      },
      "execution_count": 61,
      "outputs": [
        {
          "output_type": "execute_result",
          "data": {
            "text/plain": [
              "(torch.Size([3, 2]), torch.Size([3, 2]))"
            ]
          },
          "metadata": {},
          "execution_count": 61
        }
      ]
    },
    {
      "cell_type": "markdown",
      "source": [
        "To fix our tensor shape issues, we can manipulate the shape of one of our tensors using a **transpose**.\n",
        "\n",
        "A **transpose** switches the axes of dimensions of a given tensor."
      ],
      "metadata": {
        "id": "_xslQ_034yns"
      }
    },
    {
      "cell_type": "code",
      "source": [
        "tensor_B, tensor_B.shape"
      ],
      "metadata": {
        "colab": {
          "base_uri": "https://localhost:8080/"
        },
        "id": "U7MqKhEH5MiP",
        "outputId": "abf88920-0ebd-4bfb-d601-d3a8a43afb05"
      },
      "execution_count": 62,
      "outputs": [
        {
          "output_type": "execute_result",
          "data": {
            "text/plain": [
              "(tensor([[ 7, 10],\n",
              "         [ 8, 11],\n",
              "         [ 9, 12]]),\n",
              " torch.Size([3, 2]))"
            ]
          },
          "metadata": {},
          "execution_count": 62
        }
      ]
    },
    {
      "cell_type": "code",
      "source": [
        "tensor_B.T, tensor_B.T.shape"
      ],
      "metadata": {
        "colab": {
          "base_uri": "https://localhost:8080/"
        },
        "id": "e0HmZaFV5Y0A",
        "outputId": "f988ef3c-c038-4f28-e46f-74e5c7bb7a05"
      },
      "execution_count": 63,
      "outputs": [
        {
          "output_type": "execute_result",
          "data": {
            "text/plain": [
              "(tensor([[ 7,  8,  9],\n",
              "         [10, 11, 12]]),\n",
              " torch.Size([2, 3]))"
            ]
          },
          "metadata": {},
          "execution_count": 63
        }
      ]
    },
    {
      "cell_type": "code",
      "source": [
        "# The matrix multiplication operation works when tensor_B is transposed\n",
        "print(f\"Original shapes: tensor_A = {tensor_A.shape}, tensor_B = {tensor_B.shape}\")\n",
        "print(f\"New shapes: tensor_A = {tensor_A.shape} (same shape as above), tensor_B.T = {tensor_B.T.shape}\")\n",
        "print(f\"Multiplying: {tensor_A.shape} @ {tensor_B.T.shape} <- inner dimensions must match\")\n",
        "output = torch.mm(tensor_A, tensor_B.T)\n",
        "print(output)\n",
        "print(f\"\\nOutput shape: {output.shape}\")"
      ],
      "metadata": {
        "colab": {
          "base_uri": "https://localhost:8080/"
        },
        "id": "5KvLBwQQ5aUa",
        "outputId": "3175684a-0c89-43b4-f641-6443dfe64ff3"
      },
      "execution_count": 64,
      "outputs": [
        {
          "output_type": "stream",
          "name": "stdout",
          "text": [
            "Original shapes: tensor_A = torch.Size([3, 2]), tensor_B = torch.Size([3, 2])\n",
            "New shapes: tensor_A = torch.Size([3, 2]) (same shape as above), tensor_B.T = torch.Size([2, 3])\n",
            "Multiplying: torch.Size([3, 2]) @ torch.Size([2, 3]) <- inner dimensions must match\n",
            "tensor([[ 27,  30,  33],\n",
            "        [ 61,  68,  75],\n",
            "        [ 95, 106, 117]])\n",
            "\n",
            "Output shape: torch.Size([3, 3])\n"
          ]
        }
      ]
    },
    {
      "cell_type": "code",
      "source": [
        "torch.mm(tensor_A, tensor_B.T).shape"
      ],
      "metadata": {
        "colab": {
          "base_uri": "https://localhost:8080/"
        },
        "id": "jaoRfM6C6Mq-",
        "outputId": "32973b3c-41dc-4aa6-85a8-a811edfc4a30"
      },
      "execution_count": 65,
      "outputs": [
        {
          "output_type": "execute_result",
          "data": {
            "text/plain": [
              "torch.Size([3, 3])"
            ]
          },
          "metadata": {},
          "execution_count": 65
        }
      ]
    },
    {
      "cell_type": "markdown",
      "source": [
        "## Finding the min, max, mean, sum, etc. (tensor aggregation)\n"
      ],
      "metadata": {
        "id": "OKWHt0pu6R6v"
      }
    },
    {
      "cell_type": "code",
      "source": [
        "# Create a tensor\n",
        "x = torch.arange(1, 100, 10)\n",
        "x, x.dtype"
      ],
      "metadata": {
        "colab": {
          "base_uri": "https://localhost:8080/"
        },
        "id": "Xg9wWi9J3RSC",
        "outputId": "808be776-7b7d-4d35-ebc6-f7bb78c4750f"
      },
      "execution_count": 66,
      "outputs": [
        {
          "output_type": "execute_result",
          "data": {
            "text/plain": [
              "(tensor([ 1, 11, 21, 31, 41, 51, 61, 71, 81, 91]), torch.int64)"
            ]
          },
          "metadata": {},
          "execution_count": 66
        }
      ]
    },
    {
      "cell_type": "code",
      "source": [
        "# Find the min\n",
        "torch.min(x), x.min()"
      ],
      "metadata": {
        "colab": {
          "base_uri": "https://localhost:8080/"
        },
        "id": "5ajvAH0b3a6M",
        "outputId": "753cd28d-f369-4c90-f69e-46e72256435f"
      },
      "execution_count": 67,
      "outputs": [
        {
          "output_type": "execute_result",
          "data": {
            "text/plain": [
              "(tensor(1), tensor(1))"
            ]
          },
          "metadata": {},
          "execution_count": 67
        }
      ]
    },
    {
      "cell_type": "code",
      "source": [
        "# Find the max\n",
        "torch.max(x), x.max()"
      ],
      "metadata": {
        "colab": {
          "base_uri": "https://localhost:8080/"
        },
        "id": "cZ0XBhAA3j-G",
        "outputId": "84db680b-53f4-4af7-f3dd-acb2aeb728ee"
      },
      "execution_count": 68,
      "outputs": [
        {
          "output_type": "execute_result",
          "data": {
            "text/plain": [
              "(tensor(91), tensor(91))"
            ]
          },
          "metadata": {},
          "execution_count": 68
        }
      ]
    },
    {
      "cell_type": "code",
      "source": [
        "# Find the mean - note: torch.mean() function requires a tensor of float32 datatype to work\n",
        "torch.mean(x.type(torch.float32)), x.type(torch.float32).mean()"
      ],
      "metadata": {
        "colab": {
          "base_uri": "https://localhost:8080/"
        },
        "id": "2AcJV7yT3rsl",
        "outputId": "1e319f49-a0e8-4a56-9c0b-1c7f0a9a4b29"
      },
      "execution_count": 69,
      "outputs": [
        {
          "output_type": "execute_result",
          "data": {
            "text/plain": [
              "(tensor(46.), tensor(46.))"
            ]
          },
          "metadata": {},
          "execution_count": 69
        }
      ]
    },
    {
      "cell_type": "code",
      "source": [
        " # Find the sum\n",
        " torch.sum(x), x.sum()"
      ],
      "metadata": {
        "colab": {
          "base_uri": "https://localhost:8080/"
        },
        "id": "LRitwaBN3voc",
        "outputId": "cd5582e5-75d5-4009-c077-a5d72dc2d4ba"
      },
      "execution_count": 70,
      "outputs": [
        {
          "output_type": "execute_result",
          "data": {
            "text/plain": [
              "(tensor(460), tensor(460))"
            ]
          },
          "metadata": {},
          "execution_count": 70
        }
      ]
    },
    {
      "cell_type": "markdown",
      "source": [
        "## Finding the positional min and max"
      ],
      "metadata": {
        "id": "jV7pezhLDMAQ"
      }
    },
    {
      "cell_type": "code",
      "source": [
        "x"
      ],
      "metadata": {
        "colab": {
          "base_uri": "https://localhost:8080/"
        },
        "id": "vLMeoVVrDTO3",
        "outputId": "535e715c-ba7b-402b-c0ae-71861e7c8e41"
      },
      "execution_count": 71,
      "outputs": [
        {
          "output_type": "execute_result",
          "data": {
            "text/plain": [
              "tensor([ 1, 11, 21, 31, 41, 51, 61, 71, 81, 91])"
            ]
          },
          "metadata": {},
          "execution_count": 71
        }
      ]
    },
    {
      "cell_type": "code",
      "source": [
        "# Find the position in tensor that has the minimum value with argmin() -> returns index position of target tensor where minimum value occurs\n",
        "x.argmin()"
      ],
      "metadata": {
        "colab": {
          "base_uri": "https://localhost:8080/"
        },
        "id": "LAfXW6EoDU_I",
        "outputId": "af745364-7422-4731-c228-d5eb831db3e5"
      },
      "execution_count": 72,
      "outputs": [
        {
          "output_type": "execute_result",
          "data": {
            "text/plain": [
              "tensor(0)"
            ]
          },
          "metadata": {},
          "execution_count": 72
        }
      ]
    },
    {
      "cell_type": "code",
      "source": [
        "x[0]"
      ],
      "metadata": {
        "colab": {
          "base_uri": "https://localhost:8080/"
        },
        "id": "WIaomOznDws4",
        "outputId": "c00d9640-eae9-4d4f-e86b-4d1f0ba1aeae"
      },
      "execution_count": 73,
      "outputs": [
        {
          "output_type": "execute_result",
          "data": {
            "text/plain": [
              "tensor(1)"
            ]
          },
          "metadata": {},
          "execution_count": 73
        }
      ]
    },
    {
      "cell_type": "code",
      "source": [
        "# Find the position in tensor that has the maximum value with argmax()\n",
        "torch.argmax(x), torch.max(x)"
      ],
      "metadata": {
        "colab": {
          "base_uri": "https://localhost:8080/"
        },
        "id": "5doUYLYr6FYD",
        "outputId": "2419fa2c-5b15-4acf-94c9-7db797e2e4f2"
      },
      "execution_count": 74,
      "outputs": [
        {
          "output_type": "execute_result",
          "data": {
            "text/plain": [
              "(tensor(9), tensor(91))"
            ]
          },
          "metadata": {},
          "execution_count": 74
        }
      ]
    },
    {
      "cell_type": "code",
      "source": [
        "x[9]"
      ],
      "metadata": {
        "colab": {
          "base_uri": "https://localhost:8080/"
        },
        "id": "j5tbYSPI6axu",
        "outputId": "7039c2c2-a6be-4e4b-ec07-14937fba8ac1"
      },
      "execution_count": 75,
      "outputs": [
        {
          "output_type": "execute_result",
          "data": {
            "text/plain": [
              "tensor(91)"
            ]
          },
          "metadata": {},
          "execution_count": 75
        }
      ]
    },
    {
      "cell_type": "markdown",
      "source": [
        "## Reshaping, stacking, squeezing and unsqueezing tensors\n",
        "\n",
        "* Reshaping - reshapes input tensor to a defined shape\n",
        "* View - return a view of an input tensor of certain shape but keeps the same memory as the original tensor\n",
        "* Stacking - combine multiple tensors on top of each other (vstack) or side by side (hstack)\n",
        "* Squeeze - removes all '1' dimensions from a tensor\n",
        "* Unsqueeze - add a '1' dimension to a target tensor\n",
        "* Permute - return a view of the input with dimensions permuted (swapped) in a certain way"
      ],
      "metadata": {
        "id": "GCz3exmpC69H"
      }
    },
    {
      "cell_type": "code",
      "source": [
        "# Let's create a tensor\n",
        "x = torch.arange(1., 10.)\n",
        "x, x.shape"
      ],
      "metadata": {
        "colab": {
          "base_uri": "https://localhost:8080/"
        },
        "id": "3S7-vOoazg6F",
        "outputId": "a78d9ffc-d9b4-4c8f-c1de-c3f40cd00770"
      },
      "execution_count": 76,
      "outputs": [
        {
          "output_type": "execute_result",
          "data": {
            "text/plain": [
              "(tensor([1., 2., 3., 4., 5., 6., 7., 8., 9.]), torch.Size([9]))"
            ]
          },
          "metadata": {},
          "execution_count": 76
        }
      ]
    },
    {
      "cell_type": "code",
      "source": [
        "# Add an extra dimension\n",
        "x_reshaped = x.reshape(1, 9) # has to equate to the size of the tensor (size of x)\n",
        "x_reshaped, x_reshaped.shape"
      ],
      "metadata": {
        "colab": {
          "base_uri": "https://localhost:8080/"
        },
        "id": "VTHMZgVfzrW3",
        "outputId": "3a7944ec-8cfb-4581-ccd6-a593334b187a"
      },
      "execution_count": 77,
      "outputs": [
        {
          "output_type": "execute_result",
          "data": {
            "text/plain": [
              "(tensor([[1., 2., 3., 4., 5., 6., 7., 8., 9.]]), torch.Size([1, 9]))"
            ]
          },
          "metadata": {},
          "execution_count": 77
        }
      ]
    },
    {
      "cell_type": "code",
      "source": [
        "# Change the view\n",
        "z = x.view(1, 9) # x.view(9, 1)\n",
        "z, z.shape"
      ],
      "metadata": {
        "colab": {
          "base_uri": "https://localhost:8080/"
        },
        "id": "V9Gz_ixbz1Aq",
        "outputId": "4436e1e2-73d3-4400-819c-2c0cb6931843"
      },
      "execution_count": 78,
      "outputs": [
        {
          "output_type": "execute_result",
          "data": {
            "text/plain": [
              "(tensor([[1., 2., 3., 4., 5., 6., 7., 8., 9.]]), torch.Size([1, 9]))"
            ]
          },
          "metadata": {},
          "execution_count": 78
        }
      ]
    },
    {
      "cell_type": "code",
      "source": [
        "# Changing z changes x (because a view of a tensor shares the same memory as the original input)\n",
        "z[:, 0] = 5\n",
        "z, x"
      ],
      "metadata": {
        "colab": {
          "base_uri": "https://localhost:8080/"
        },
        "id": "y8pC7lUq0yvd",
        "outputId": "e2f3d1d1-9293-499c-86bc-069a61ed34a5"
      },
      "execution_count": 79,
      "outputs": [
        {
          "output_type": "execute_result",
          "data": {
            "text/plain": [
              "(tensor([[5., 2., 3., 4., 5., 6., 7., 8., 9.]]),\n",
              " tensor([5., 2., 3., 4., 5., 6., 7., 8., 9.]))"
            ]
          },
          "metadata": {},
          "execution_count": 79
        }
      ]
    },
    {
      "cell_type": "code",
      "source": [
        "# Stack tensors on top of each other\n",
        "x_stacked = torch.stack([x, x, x, x], dim=0) # 'dim=0' is stack by row, 'dim=1' is stack by column\n",
        "x_stacked"
      ],
      "metadata": {
        "colab": {
          "base_uri": "https://localhost:8080/"
        },
        "id": "BZgzxQ_S1Gkr",
        "outputId": "bba28b18-9ba1-4e46-b1ea-7aafae3763d1"
      },
      "execution_count": 80,
      "outputs": [
        {
          "output_type": "execute_result",
          "data": {
            "text/plain": [
              "tensor([[5., 2., 3., 4., 5., 6., 7., 8., 9.],\n",
              "        [5., 2., 3., 4., 5., 6., 7., 8., 9.],\n",
              "        [5., 2., 3., 4., 5., 6., 7., 8., 9.],\n",
              "        [5., 2., 3., 4., 5., 6., 7., 8., 9.]])"
            ]
          },
          "metadata": {},
          "execution_count": 80
        }
      ]
    },
    {
      "cell_type": "code",
      "source": [
        "# torch.squeeze() - removes all single dimensions from a target tensor\n",
        "print(f\"Previous tensor: {x_reshaped}\")\n",
        "print(f\"Previous shape: {x_reshaped.shape}\")\n",
        "\n",
        "# Remove extra dimensions from x_reshaped\n",
        "x_squeezed = x_reshaped.squeeze()\n",
        "print(f\"\\nNew tensor: {x_squeezed}\")\n",
        "print(f\"New shape: {x_squeezed.shape}\")"
      ],
      "metadata": {
        "colab": {
          "base_uri": "https://localhost:8080/"
        },
        "id": "Y4_jWgYT1yR6",
        "outputId": "68676d3c-01a9-4c2c-e026-ae48f19d09d9"
      },
      "execution_count": 81,
      "outputs": [
        {
          "output_type": "stream",
          "name": "stdout",
          "text": [
            "Previous tensor: tensor([[5., 2., 3., 4., 5., 6., 7., 8., 9.]])\n",
            "Previous shape: torch.Size([1, 9])\n",
            "\n",
            "New tensor: tensor([5., 2., 3., 4., 5., 6., 7., 8., 9.])\n",
            "New shape: torch.Size([9])\n"
          ]
        }
      ]
    },
    {
      "cell_type": "code",
      "source": [
        "# torch.unsqueeze() - adds a single dimension to a target tensor at a specific dim (ddimension)\n",
        "print(f\"Previous tensor: {x_squeezed}\")\n",
        "print(f\"Previous shape: {x_squeezed.shape}\")\n",
        "\n",
        "# Add an extra dimension with unsqueeze\n",
        "x_unsqueezed = x_squeezed.unsqueeze(dim=0)\n",
        "print(f\"\\nNew tensor: {x_unsqueezed}\")\n",
        "print(f\"New shape: {x_unsqueezed.shape}\")"
      ],
      "metadata": {
        "colab": {
          "base_uri": "https://localhost:8080/"
        },
        "id": "8aH858SE8hxJ",
        "outputId": "169c7c42-187d-4a32-a907-4b082520f687"
      },
      "execution_count": 82,
      "outputs": [
        {
          "output_type": "stream",
          "name": "stdout",
          "text": [
            "Previous tensor: tensor([5., 2., 3., 4., 5., 6., 7., 8., 9.])\n",
            "Previous shape: torch.Size([9])\n",
            "\n",
            "New tensor: tensor([[5., 2., 3., 4., 5., 6., 7., 8., 9.]])\n",
            "New shape: torch.Size([1, 9])\n"
          ]
        }
      ]
    },
    {
      "cell_type": "code",
      "source": [
        "# torch.permute - rearranges the dimensions of a target tensor in a specified order\n",
        "x_original = torch.rand(size=(224, 224, 3)) # (height, width, colour_channels)\n",
        "\n",
        "# Permute the original tensor to rearrange the axis (or dim) order\n",
        "x_permuted = x_original.permute(2, 0, 1) #shifts axis 0->1, 1->2, 2->0\n",
        "\n",
        "print(f\"Previous shape: {x_original.shape}\")\n",
        "print(f\"New shape: {x_permuted.shape}\") # (colour_channels, height, width)"
      ],
      "metadata": {
        "colab": {
          "base_uri": "https://localhost:8080/"
        },
        "id": "iBMZpBYZ8kft",
        "outputId": "b56ec76c-b1cb-438c-fcc2-840ffb42224b"
      },
      "execution_count": 83,
      "outputs": [
        {
          "output_type": "stream",
          "name": "stdout",
          "text": [
            "Previous shape: torch.Size([224, 224, 3])\n",
            "New shape: torch.Size([3, 224, 224])\n"
          ]
        }
      ]
    },
    {
      "cell_type": "code",
      "source": [
        "x_original[0, 0, 0] = 728218\n",
        "x_original[0, 0, 0], x_permuted[0, 0, 0]"
      ],
      "metadata": {
        "colab": {
          "base_uri": "https://localhost:8080/"
        },
        "id": "uh5oGQX78uDr",
        "outputId": "6029943c-5f13-49be-cbf0-4ff23937b5a4"
      },
      "execution_count": 84,
      "outputs": [
        {
          "output_type": "execute_result",
          "data": {
            "text/plain": [
              "(tensor(728218.), tensor(728218.))"
            ]
          },
          "metadata": {},
          "execution_count": 84
        }
      ]
    },
    {
      "cell_type": "markdown",
      "source": [
        "## Indexing (selecting data from tensors)\n",
        "\n",
        "Indexing with PyTorch is similar to indexing with NumPy"
      ],
      "metadata": {
        "id": "H915MmiU5mAa"
      }
    },
    {
      "cell_type": "code",
      "source": [
        "# Create a tensor\n",
        "x = torch.arange(1, 10).reshape(1, 3, 3)\n",
        "x, x.shape"
      ],
      "metadata": {
        "colab": {
          "base_uri": "https://localhost:8080/"
        },
        "id": "5Y1UraYC5z6R",
        "outputId": "2c239252-4c68-49e8-e763-322cad855179"
      },
      "execution_count": 85,
      "outputs": [
        {
          "output_type": "execute_result",
          "data": {
            "text/plain": [
              "(tensor([[[1, 2, 3],\n",
              "          [4, 5, 6],\n",
              "          [7, 8, 9]]]),\n",
              " torch.Size([1, 3, 3]))"
            ]
          },
          "metadata": {},
          "execution_count": 85
        }
      ]
    },
    {
      "cell_type": "code",
      "source": [
        "# Let's index on our new tensor\n",
        "x[0]"
      ],
      "metadata": {
        "colab": {
          "base_uri": "https://localhost:8080/"
        },
        "id": "7vxLPNg05_dg",
        "outputId": "8a7520b2-a50f-40f0-abdc-785a140cb1f2"
      },
      "execution_count": 86,
      "outputs": [
        {
          "output_type": "execute_result",
          "data": {
            "text/plain": [
              "tensor([[1, 2, 3],\n",
              "        [4, 5, 6],\n",
              "        [7, 8, 9]])"
            ]
          },
          "metadata": {},
          "execution_count": 86
        }
      ]
    },
    {
      "cell_type": "code",
      "source": [
        "# Let's index on the middle bracket (dim=1)\n",
        "x[0][0] # x[0, 0]"
      ],
      "metadata": {
        "colab": {
          "base_uri": "https://localhost:8080/"
        },
        "id": "aYMW0XHX6I_I",
        "outputId": "8d490c17-d6fe-48d0-cb4c-8db243f9f77a"
      },
      "execution_count": 87,
      "outputs": [
        {
          "output_type": "execute_result",
          "data": {
            "text/plain": [
              "tensor([1, 2, 3])"
            ]
          },
          "metadata": {},
          "execution_count": 87
        }
      ]
    },
    {
      "cell_type": "code",
      "source": [
        "# Let's index on the most inner bracket (last dimension)\n",
        "x[0][1][1]"
      ],
      "metadata": {
        "colab": {
          "base_uri": "https://localhost:8080/"
        },
        "id": "7LR5arV56W_e",
        "outputId": "31e611e3-a1f4-498c-d997-1602948af1b8"
      },
      "execution_count": 88,
      "outputs": [
        {
          "output_type": "execute_result",
          "data": {
            "text/plain": [
              "tensor(5)"
            ]
          },
          "metadata": {},
          "execution_count": 88
        }
      ]
    },
    {
      "cell_type": "code",
      "source": [
        "# You can also use \":\" to select \"all\" of a target dimension\n",
        "x[:,0]"
      ],
      "metadata": {
        "colab": {
          "base_uri": "https://localhost:8080/"
        },
        "id": "5vbBbwSN6jRc",
        "outputId": "03de1534-78e0-410e-d656-be0072285526"
      },
      "execution_count": 89,
      "outputs": [
        {
          "output_type": "execute_result",
          "data": {
            "text/plain": [
              "tensor([[1, 2, 3]])"
            ]
          },
          "metadata": {},
          "execution_count": 89
        }
      ]
    },
    {
      "cell_type": "code",
      "source": [
        "# Get all values of 0th and 1st dimensions but only index 1 of 2nd dimension\n",
        "x[:, :, 1]"
      ],
      "metadata": {
        "colab": {
          "base_uri": "https://localhost:8080/"
        },
        "id": "gZ0CSkCJ7JBj",
        "outputId": "2376d3af-9884-4b44-e513-1c08d51966dd"
      },
      "execution_count": 90,
      "outputs": [
        {
          "output_type": "execute_result",
          "data": {
            "text/plain": [
              "tensor([[2, 5, 8]])"
            ]
          },
          "metadata": {},
          "execution_count": 90
        }
      ]
    },
    {
      "cell_type": "code",
      "source": [
        "# Get all values of the 0th dimension but only the 1 index value of 1st and 2nd dimension\n",
        "x[:, 1, 1]"
      ],
      "metadata": {
        "colab": {
          "base_uri": "https://localhost:8080/"
        },
        "id": "KYRY07XR7U5C",
        "outputId": "6be854e1-460e-473e-8659-f9ccac288610"
      },
      "execution_count": 91,
      "outputs": [
        {
          "output_type": "execute_result",
          "data": {
            "text/plain": [
              "tensor([5])"
            ]
          },
          "metadata": {},
          "execution_count": 91
        }
      ]
    },
    {
      "cell_type": "code",
      "source": [
        "# Get index 0 of 0th and 1st dimension and all values of 2nd dimension\n",
        "x[0, 0, :]"
      ],
      "metadata": {
        "colab": {
          "base_uri": "https://localhost:8080/"
        },
        "id": "LlRwownz7xlK",
        "outputId": "16e7bae7-121a-4e4f-c05e-22ebe52d3445"
      },
      "execution_count": 92,
      "outputs": [
        {
          "output_type": "execute_result",
          "data": {
            "text/plain": [
              "tensor([1, 2, 3])"
            ]
          },
          "metadata": {},
          "execution_count": 92
        }
      ]
    },
    {
      "cell_type": "code",
      "source": [
        "# Index on x to return 9\n",
        "print(x[0][2][2])\n",
        "\n",
        "# Index on x to return 3, 6, 9\n",
        "print(x[:, :, 2])"
      ],
      "metadata": {
        "colab": {
          "base_uri": "https://localhost:8080/"
        },
        "id": "utuoAWNG8FB_",
        "outputId": "6077a7d8-2590-49a5-f290-00ed7ed04217"
      },
      "execution_count": 93,
      "outputs": [
        {
          "output_type": "stream",
          "name": "stdout",
          "text": [
            "tensor(9)\n",
            "tensor([[3, 6, 9]])\n"
          ]
        }
      ]
    },
    {
      "cell_type": "markdown",
      "source": [
        "## PyTorch tensors & NumPy\n",
        "\n",
        "NumPy is a popular scientific Python numerical computing library.\n",
        "\n",
        "And because of this, PyTorch has functionality to interact with it.\n",
        "\n",
        "* Date in NumPy, want in PyTorch tensor -> 'torch.from_numpy(ndarray)'\n",
        "* PyTorch tensor -> NumPy -> 'torch.Tensor.numpy()'"
      ],
      "metadata": {
        "id": "OYdtVVXX8ujT"
      }
    },
    {
      "cell_type": "code",
      "source": [
        " # NumPy array to tensor\n",
        " import numpy as np\n",
        "\n",
        " array = np.arange(1.0, 8.0)\n",
        " tensor = torch.from_numpy(array) # warning: when converting from numpy -> pytorch, pytorch reflects numpy's default datatype of float64 unless specified otherwise\n",
        " array, tensor"
      ],
      "metadata": {
        "colab": {
          "base_uri": "https://localhost:8080/"
        },
        "id": "PgSk8sGOTLxN",
        "outputId": "8a40dd91-ed38-42d1-e796-a752e612d811"
      },
      "execution_count": 94,
      "outputs": [
        {
          "output_type": "execute_result",
          "data": {
            "text/plain": [
              "(array([1., 2., 3., 4., 5., 6., 7.]),\n",
              " tensor([1., 2., 3., 4., 5., 6., 7.], dtype=torch.float64))"
            ]
          },
          "metadata": {},
          "execution_count": 94
        }
      ]
    },
    {
      "cell_type": "code",
      "source": [
        "# Change the value of array, what will this do to 'tensor'?\n",
        "array = array + 1\n",
        "array, tensor"
      ],
      "metadata": {
        "colab": {
          "base_uri": "https://localhost:8080/"
        },
        "id": "T9BcDTP8U0q8",
        "outputId": "a72ca976-4b86-4445-b465-1705bc44a3d8"
      },
      "execution_count": 95,
      "outputs": [
        {
          "output_type": "execute_result",
          "data": {
            "text/plain": [
              "(array([2., 3., 4., 5., 6., 7., 8.]),\n",
              " tensor([1., 2., 3., 4., 5., 6., 7.], dtype=torch.float64))"
            ]
          },
          "metadata": {},
          "execution_count": 95
        }
      ]
    },
    {
      "cell_type": "code",
      "source": [
        "# Tensor to NumPy array\n",
        "tensor = torch.ones(7)\n",
        "numpy_tensor = tensor.numpy()\n",
        "tensor, numpy_tensor"
      ],
      "metadata": {
        "colab": {
          "base_uri": "https://localhost:8080/"
        },
        "id": "bjUPOUymU83C",
        "outputId": "d3512989-7edf-4fa4-eb6d-426c0bfab05c"
      },
      "execution_count": 96,
      "outputs": [
        {
          "output_type": "execute_result",
          "data": {
            "text/plain": [
              "(tensor([1., 1., 1., 1., 1., 1., 1.]),\n",
              " array([1., 1., 1., 1., 1., 1., 1.], dtype=float32))"
            ]
          },
          "metadata": {},
          "execution_count": 96
        }
      ]
    },
    {
      "cell_type": "code",
      "source": [
        "# Change the tensor, what happens to 'numpy_tensor'?\n",
        "tensor = tensor + 1\n",
        "tensor, numpy_tensor"
      ],
      "metadata": {
        "colab": {
          "base_uri": "https://localhost:8080/"
        },
        "id": "tCxzRzhzVACR",
        "outputId": "95da415d-f4e5-44b5-c120-c48d5742d8a5"
      },
      "execution_count": 97,
      "outputs": [
        {
          "output_type": "execute_result",
          "data": {
            "text/plain": [
              "(tensor([2., 2., 2., 2., 2., 2., 2.]),\n",
              " array([1., 1., 1., 1., 1., 1., 1.], dtype=float32))"
            ]
          },
          "metadata": {},
          "execution_count": 97
        }
      ]
    },
    {
      "cell_type": "markdown",
      "source": [
        "## Reproducibility (trying to take the random out of random)\n",
        "\n",
        "In short how a neural network learns:\n",
        "\n",
        "'start with random numbers -> tensor operations -> update random numbers to try and make them better representaions of the data -> again -> again -> again...'\n",
        "\n",
        "To reduce teh randomness in neural networks and PyTorch comes the concept of a **random seed**.\n",
        "\n",
        "Essentially what the random seed does is \"flavour\" the randomness."
      ],
      "metadata": {
        "id": "w5Sx045aVD4U"
      }
    },
    {
      "cell_type": "code",
      "source": [
        "# Create two random tensors\n",
        "random_tensor_A = torch.rand(3, 4)\n",
        "random_tensor_B = torch.rand(3, 4)\n",
        "\n",
        "print(random_tensor_A)\n",
        "print(random_tensor_B)\n",
        "print(random_tensor_A == random_tensor_B)"
      ],
      "metadata": {
        "colab": {
          "base_uri": "https://localhost:8080/"
        },
        "id": "HDhH8K5aW8Aq",
        "outputId": "0e7e7858-c26b-48e4-a34b-68da24aca4f1"
      },
      "execution_count": 98,
      "outputs": [
        {
          "output_type": "stream",
          "name": "stdout",
          "text": [
            "tensor([[0.8782, 0.7191, 0.3892, 0.4374],\n",
            "        [0.5277, 0.4797, 0.9294, 0.4573],\n",
            "        [0.4411, 0.8214, 0.7437, 0.3426]])\n",
            "tensor([[0.4224, 0.8888, 0.0607, 0.4611],\n",
            "        [0.7231, 0.3860, 0.7582, 0.2551],\n",
            "        [0.6782, 0.9795, 0.6484, 0.1919]])\n",
            "tensor([[False, False, False, False],\n",
            "        [False, False, False, False],\n",
            "        [False, False, False, False]])\n"
          ]
        }
      ]
    },
    {
      "cell_type": "code",
      "source": [
        "# Let's make some random but reproducible tensors\n",
        "import torch\n",
        "\n",
        "# Set the random seed\n",
        "RANDOM_SEED = 84\n",
        "\n",
        "torch.manual_seed(RANDOM_SEED)\n",
        "random_tensor_C = torch.rand(3, 4)\n",
        "\n",
        "torch.manual_seed(RANDOM_SEED)\n",
        "random_tensor_D = torch.rand(3, 4)\n",
        "\n",
        "print(random_tensor_C)\n",
        "print(random_tensor_D)\n",
        "print(random_tensor_C == random_tensor_D)"
      ],
      "metadata": {
        "colab": {
          "base_uri": "https://localhost:8080/"
        },
        "id": "CBmNKlwdW77k",
        "outputId": "bab8c005-7841-445a-8f07-a369583da5d6"
      },
      "execution_count": 99,
      "outputs": [
        {
          "output_type": "stream",
          "name": "stdout",
          "text": [
            "tensor([[0.7865, 0.3806, 0.7820, 0.4943],\n",
            "        [0.0335, 0.7917, 0.8909, 0.8513],\n",
            "        [0.4682, 0.0496, 0.4305, 0.5029]])\n",
            "tensor([[0.7865, 0.3806, 0.7820, 0.4943],\n",
            "        [0.0335, 0.7917, 0.8909, 0.8513],\n",
            "        [0.4682, 0.0496, 0.4305, 0.5029]])\n",
            "tensor([[True, True, True, True],\n",
            "        [True, True, True, True],\n",
            "        [True, True, True, True]])\n"
          ]
        }
      ]
    },
    {
      "cell_type": "markdown",
      "source": [
        "Extra resources for reproducibility:\n",
        "\n",
        "* https://pytorch.org/docs/stable/notes/randomness.html\n",
        "* https://en.wikipedia.org/wiki/Random_seed"
      ],
      "metadata": {
        "id": "nKxM5kmGYRf5"
      }
    },
    {
      "cell_type": "markdown",
      "source": [
        "## Running tensors and PyTorch objects on GPUs (and making faster computations)\n",
        "\n",
        "GPUs = faster computation on numbers, thanks to CUDA + NVIDIA hardware + PyTorch working behind the scenes to make everything good."
      ],
      "metadata": {
        "id": "v2QNEm4CZxRv"
      }
    },
    {
      "cell_type": "markdown",
      "source": [
        "### 1. Getting a GPU\n",
        "\n",
        "1. Easiest - Use Google Colab for a free GPU (options to upgrade as well).\n",
        "2. Use your own GPU - takes a little bit of setup and requires the investment of purchasing a GPU, there's lots of options... see this post for what option to get: https://timdettmers.com/category/deep-learning/\n",
        "3. Use cloud computing - GCP, AWS, Azure, these services allow you to rent computers on the cloud and access them\n",
        "\n",
        "For 2, 3 PyTorch + GPU drivers (CUDA) takes a little bit of setting up, to do this, refer to PyTorch setup documentation: https://pytorch.org/get-started/locally/\n"
      ],
      "metadata": {
        "id": "ZP12T_GlaRgo"
      }
    },
    {
      "cell_type": "code",
      "source": [
        "!nvidia-smi"
      ],
      "metadata": {
        "colab": {
          "base_uri": "https://localhost:8080/"
        },
        "id": "CTfKr9Pnbuof",
        "outputId": "604d3741-0524-4feb-eabf-5aefdbd690c0"
      },
      "execution_count": 100,
      "outputs": [
        {
          "output_type": "stream",
          "name": "stdout",
          "text": [
            "Tue Jan 23 23:47:45 2024       \n",
            "+---------------------------------------------------------------------------------------+\n",
            "| NVIDIA-SMI 535.104.05             Driver Version: 535.104.05   CUDA Version: 12.2     |\n",
            "|-----------------------------------------+----------------------+----------------------+\n",
            "| GPU  Name                 Persistence-M | Bus-Id        Disp.A | Volatile Uncorr. ECC |\n",
            "| Fan  Temp   Perf          Pwr:Usage/Cap |         Memory-Usage | GPU-Util  Compute M. |\n",
            "|                                         |                      |               MIG M. |\n",
            "|=========================================+======================+======================|\n",
            "|   0  Tesla T4                       Off | 00000000:00:04.0 Off |                    0 |\n",
            "| N/A   66C    P8              11W /  70W |      0MiB / 15360MiB |      0%      Default |\n",
            "|                                         |                      |                  N/A |\n",
            "+-----------------------------------------+----------------------+----------------------+\n",
            "                                                                                         \n",
            "+---------------------------------------------------------------------------------------+\n",
            "| Processes:                                                                            |\n",
            "|  GPU   GI   CI        PID   Type   Process name                            GPU Memory |\n",
            "|        ID   ID                                                             Usage      |\n",
            "|=======================================================================================|\n",
            "|  No running processes found                                                           |\n",
            "+---------------------------------------------------------------------------------------+\n"
          ]
        }
      ]
    },
    {
      "cell_type": "markdown",
      "source": [
        "### 2. Check for GPU access with PyTorch"
      ],
      "metadata": {
        "id": "iN7aTSrbcoKb"
      }
    },
    {
      "cell_type": "code",
      "source": [
        "# Check for GPU access with PyTorch\n",
        "import torch\n",
        "torch.cuda.is_available()"
      ],
      "metadata": {
        "colab": {
          "base_uri": "https://localhost:8080/"
        },
        "id": "c5XeeSkzdTUk",
        "outputId": "2592784f-3aa4-4f6f-ce11-7fb9511e46e9"
      },
      "execution_count": 101,
      "outputs": [
        {
          "output_type": "execute_result",
          "data": {
            "text/plain": [
              "True"
            ]
          },
          "metadata": {},
          "execution_count": 101
        }
      ]
    },
    {
      "cell_type": "markdown",
      "source": [
        "For PyTorch since it's capable of running comute on the GPU or CPUS, it's best practice to setup device agnostic code: https://pytorch.org/docs/stable/notes/cuda.html#best-practices\n",
        "\n",
        "E.g. run on GPU if available, else default to CPU"
      ],
      "metadata": {
        "id": "gb74opitfSFA"
      }
    },
    {
      "cell_type": "code",
      "source": [
        "# Setup device agnostic code\n",
        "device = \"cuda\" if torch.cuda.is_available() else \"cpu\"\n",
        "device"
      ],
      "metadata": {
        "colab": {
          "base_uri": "https://localhost:8080/",
          "height": 35
        },
        "id": "Hmr9t0o9df6v",
        "outputId": "de1f3138-64c9-46e8-d742-92437eba5025"
      },
      "execution_count": 102,
      "outputs": [
        {
          "output_type": "execute_result",
          "data": {
            "text/plain": [
              "'cuda'"
            ],
            "application/vnd.google.colaboratory.intrinsic+json": {
              "type": "string"
            }
          },
          "metadata": {},
          "execution_count": 102
        }
      ]
    },
    {
      "cell_type": "code",
      "source": [
        "# Count number of devices\n",
        "torch.cuda.device_count()"
      ],
      "metadata": {
        "colab": {
          "base_uri": "https://localhost:8080/"
        },
        "id": "Mgh-KR_ceurk",
        "outputId": "f1a7f29d-3b64-4166-f0dc-f128900c65ea"
      },
      "execution_count": 103,
      "outputs": [
        {
          "output_type": "execute_result",
          "data": {
            "text/plain": [
              "1"
            ]
          },
          "metadata": {},
          "execution_count": 103
        }
      ]
    },
    {
      "cell_type": "markdown",
      "source": [
        "## 3. Putting tensors (and models) on the GPU\n",
        "\n",
        "The reason we want our tensors/models on the GPU is because using a GPU results in faster computations."
      ],
      "metadata": {
        "id": "GmgS_6yJe4-J"
      }
    },
    {
      "cell_type": "code",
      "source": [
        "# Create a tensor (default on the CPU)\n",
        "tensor = torch.tensor([1, 2, 3])\n",
        "\n",
        "# Tensor not on GPU\n",
        "print(tensor, tensor.device)"
      ],
      "metadata": {
        "colab": {
          "base_uri": "https://localhost:8080/"
        },
        "id": "mu8SlykYgHRe",
        "outputId": "8e796c09-b1b8-4ebf-d7d9-d2a93a8be2b3"
      },
      "execution_count": 104,
      "outputs": [
        {
          "output_type": "stream",
          "name": "stdout",
          "text": [
            "tensor([1, 2, 3]) cpu\n"
          ]
        }
      ]
    },
    {
      "cell_type": "code",
      "source": [
        "# Move tensor to GPU (if available)\n",
        "tensor_on_gpu = tensor.to(device)\n",
        "tensor_on_gpu"
      ],
      "metadata": {
        "colab": {
          "base_uri": "https://localhost:8080/"
        },
        "id": "KlA84_gNgbRp",
        "outputId": "daf1337b-53cb-40a7-9d26-dab8a1252717"
      },
      "execution_count": 105,
      "outputs": [
        {
          "output_type": "execute_result",
          "data": {
            "text/plain": [
              "tensor([1, 2, 3], device='cuda:0')"
            ]
          },
          "metadata": {},
          "execution_count": 105
        }
      ]
    },
    {
      "cell_type": "markdown",
      "source": [
        "### 4. Moving tensors back to the CPU"
      ],
      "metadata": {
        "id": "SYvjSn2ogomV"
      }
    },
    {
      "cell_type": "code",
      "source": [
        "# If tensor is on GPU, can't transform it to NumPy\n",
        "# tensor_on_gpu.numpy() will cause error"
      ],
      "metadata": {
        "id": "LvgXJt5NhA6k"
      },
      "execution_count": 106,
      "outputs": []
    },
    {
      "cell_type": "code",
      "source": [
        "# To fix the GPU tensor with NumPy issue, we can first set it to the CPU\n",
        "tensor_back_on_cpu = tensor_on_gpu.to(\"cpu\") # cpu().numpy()\n",
        "tensor_back_on_cpu"
      ],
      "metadata": {
        "colab": {
          "base_uri": "https://localhost:8080/"
        },
        "id": "9Z5ZV5Z4hMG8",
        "outputId": "425a3b4a-33a7-4934-bd51-c5bc583049bc"
      },
      "execution_count": 107,
      "outputs": [
        {
          "output_type": "execute_result",
          "data": {
            "text/plain": [
              "tensor([1, 2, 3])"
            ]
          },
          "metadata": {},
          "execution_count": 107
        }
      ]
    },
    {
      "cell_type": "code",
      "source": [
        "tensor_on_gpu # remains unchanged"
      ],
      "metadata": {
        "colab": {
          "base_uri": "https://localhost:8080/"
        },
        "id": "YaLXq2a_hxsD",
        "outputId": "77cd23b8-efd8-4670-ac53-b214beb5da01"
      },
      "execution_count": 108,
      "outputs": [
        {
          "output_type": "execute_result",
          "data": {
            "text/plain": [
              "tensor([1, 2, 3], device='cuda:0')"
            ]
          },
          "metadata": {},
          "execution_count": 108
        }
      ]
    },
    {
      "cell_type": "markdown",
      "source": [
        "## Exercies & Extra-curriculum"
      ],
      "metadata": {
        "id": "Gl2gpv2th4pj"
      }
    },
    {
      "cell_type": "markdown",
      "source": [
        "##### 1. Documentation reading - A big part of deep learning (and learning to code in general) is getting familiar with the documentation of a certain framework you're using. We'll be using the PyTorch documentation a lot throughout the rest of this course. So I'd recommend spending 10-minutes reading the following (it's okay if you don't get some things for now, the focus is not yet full understanding, it's awareness). See the documentation on torch.Tensor and for torch.cuda.\n",
        "\n",
        "* Documentation on 'torch.Tensor': https://pytorch.org/docs/stable/tensors.html#torch-tensor\n",
        "\n",
        "* Documentaion on 'torch.cuda': https://pytorch.org/docs/master/notes/cuda.html#cuda-semantics"
      ],
      "metadata": {
        "id": "ctqKjm3Tidb8"
      }
    },
    {
      "cell_type": "markdown",
      "source": [
        "##### 2. Create a random tensor with shape (7, 7)."
      ],
      "metadata": {
        "id": "YDrS1rasj3el"
      }
    },
    {
      "cell_type": "code",
      "source": [
        "tensor = torch.rand(7, 7)\n",
        "tensor, tensor.shape"
      ],
      "metadata": {
        "colab": {
          "base_uri": "https://localhost:8080/"
        },
        "id": "aV2lwBPRi4lF",
        "outputId": "8b9c3993-5598-419f-8cb6-d0c4489db602"
      },
      "execution_count": 109,
      "outputs": [
        {
          "output_type": "execute_result",
          "data": {
            "text/plain": [
              "(tensor([[0.4388, 0.1109, 0.1284, 0.9631, 0.1101, 0.6563, 0.5408],\n",
              "         [0.1215, 0.3552, 0.4256, 0.7984, 0.8762, 0.5531, 0.2837],\n",
              "         [0.1318, 0.8071, 0.8613, 0.2720, 0.1169, 0.5769, 0.0788],\n",
              "         [0.6099, 0.3372, 0.0969, 0.7764, 0.4854, 0.0933, 0.5805],\n",
              "         [0.9849, 0.0228, 0.7192, 0.0445, 0.9893, 0.8578, 0.9588],\n",
              "         [0.3884, 0.2061, 0.5131, 0.9055, 0.6319, 0.3463, 0.4888],\n",
              "         [0.6637, 0.5971, 0.4773, 0.6868, 0.4333, 0.0781, 0.6251]]),\n",
              " torch.Size([7, 7]))"
            ]
          },
          "metadata": {},
          "execution_count": 109
        }
      ]
    },
    {
      "cell_type": "markdown",
      "source": [
        "##### 3. Perform a matrix multiplication on the tensor from 2 with another random tensor with shape (1, 7) (hint: you may have to transpose the second tensor)."
      ],
      "metadata": {
        "id": "-l_UpJ-UkDlC"
      }
    },
    {
      "cell_type": "code",
      "source": [
        "tensor2 = torch.rand(1, 7)\n",
        "X = torch.mm(tensor, tensor2.T)\n",
        "X, X.shape"
      ],
      "metadata": {
        "colab": {
          "base_uri": "https://localhost:8080/"
        },
        "id": "6hLK1EvKkQC8",
        "outputId": "96631cf1-e651-4460-c929-99e9338bf505"
      },
      "execution_count": 110,
      "outputs": [
        {
          "output_type": "execute_result",
          "data": {
            "text/plain": [
              "(tensor([[1.9333],\n",
              "         [2.0777],\n",
              "         [1.4934],\n",
              "         [1.7740],\n",
              "         [2.6916],\n",
              "         [2.1336],\n",
              "         [1.9809]]),\n",
              " torch.Size([7, 1]))"
            ]
          },
          "metadata": {},
          "execution_count": 110
        }
      ]
    },
    {
      "cell_type": "markdown",
      "source": [
        "##### 4. Set the random seed to 0 and do exercises 2 & 3 over again."
      ],
      "metadata": {
        "id": "ISwlXkDRkfXn"
      }
    },
    {
      "cell_type": "code",
      "source": [
        "RANDOM_SEED = 0\n",
        "torch.manual_seed(RANDOM_SEED)\n",
        "Y = torch.mm(torch.rand(7, 7), torch.rand(1, 7).T)\n",
        "Y, Y.shape"
      ],
      "metadata": {
        "colab": {
          "base_uri": "https://localhost:8080/"
        },
        "id": "06EYIJkQkq0d",
        "outputId": "112f0d28-9382-4d86-93f2-4e54b7a94115"
      },
      "execution_count": 111,
      "outputs": [
        {
          "output_type": "execute_result",
          "data": {
            "text/plain": [
              "(tensor([[1.8542],\n",
              "         [1.9611],\n",
              "         [2.2884],\n",
              "         [3.0481],\n",
              "         [1.7067],\n",
              "         [2.5290],\n",
              "         [1.7989]]),\n",
              " torch.Size([7, 1]))"
            ]
          },
          "metadata": {},
          "execution_count": 111
        }
      ]
    },
    {
      "cell_type": "markdown",
      "source": [
        "##### 5. Speaking of random seeds, we saw how to set it with torch.manual_seed() but is there a GPU equivalent? (hint: you'll need to look into the documentation for torch.cuda for this one). If there is, set the GPU random seed to 1234."
      ],
      "metadata": {
        "id": "bRJnmYnTk6a-"
      }
    },
    {
      "cell_type": "code",
      "source": [
        "RANDOM_SEED_GPU = 1234\n",
        "torch.cuda.manual_seed(RANDOM_SEED_GPU)"
      ],
      "metadata": {
        "id": "ukkMqpIRlI9l"
      },
      "execution_count": 112,
      "outputs": []
    },
    {
      "cell_type": "markdown",
      "source": [
        "##### 6. Create two random tensors of shape (2, 3) and send them both to the GPU (you'll need access to a GPU for this). Set torch.manual_seed(1234) when creating the tensors (this doesn't have to be the GPU random seed)."
      ],
      "metadata": {
        "id": "9QhiI-oRlqVs"
      }
    },
    {
      "cell_type": "code",
      "source": [
        "torch.manual_seed(1234)\n",
        "tensor_A = torch.rand(2, 3)\n",
        "tensor_B = torch.rand(2, 3)\n",
        "device = \"cuda\" if torch.cuda.is_available() else \"cpu\"\n",
        "tensor_A_gpu = tensor_A.to(device)\n",
        "tensor_B_gpu = tensor_B.to(device)\n",
        "print(f\"Showing original tensors on CPU: \\ntensor_A = {tensor_A, tensor_A.device} \\ntensor_B = {tensor_B, tensor_B.device}\")\n",
        "print(f\"\\nShowing tensors moved on to GPU: \\ntensor_A_gpu = {tensor_A_gpu, tensor_A_gpu.device} \\ntensor_B_gpu = {tensor_B_gpu, tensor_B_gpu.device}\")"
      ],
      "metadata": {
        "colab": {
          "base_uri": "https://localhost:8080/"
        },
        "id": "1_OjhHjSl3Ia",
        "outputId": "f721ef88-5046-4aa0-f166-16258e275e9c"
      },
      "execution_count": 113,
      "outputs": [
        {
          "output_type": "stream",
          "name": "stdout",
          "text": [
            "Showing original tensors on CPU: \n",
            "tensor_A = (tensor([[0.0290, 0.4019, 0.2598],\n",
            "        [0.3666, 0.0583, 0.7006]]), device(type='cpu')) \n",
            "tensor_B = (tensor([[0.0518, 0.4681, 0.6738],\n",
            "        [0.3315, 0.7837, 0.5631]]), device(type='cpu'))\n",
            "\n",
            "Showing tensors moved on to GPU: \n",
            "tensor_A_gpu = (tensor([[0.0290, 0.4019, 0.2598],\n",
            "        [0.3666, 0.0583, 0.7006]], device='cuda:0'), device(type='cuda', index=0)) \n",
            "tensor_B_gpu = (tensor([[0.0518, 0.4681, 0.6738],\n",
            "        [0.3315, 0.7837, 0.5631]], device='cuda:0'), device(type='cuda', index=0))\n"
          ]
        }
      ]
    },
    {
      "cell_type": "markdown",
      "source": [
        "##### 7. Perform a matrix multiplication on the tensors you created in 6 (again, you may have to adjust the shapes of one of the tensors)."
      ],
      "metadata": {
        "id": "8RSgKRJDmlqd"
      }
    },
    {
      "cell_type": "code",
      "source": [
        "result = torch.mm(tensor_A_gpu, tensor_B_gpu.T)\n",
        "result, result.shape"
      ],
      "metadata": {
        "colab": {
          "base_uri": "https://localhost:8080/"
        },
        "id": "UyXMVVhAoid_",
        "outputId": "41c74ef8-8d57-4697-8164-e52c1550144f"
      },
      "execution_count": 114,
      "outputs": [
        {
          "output_type": "execute_result",
          "data": {
            "text/plain": [
              "(tensor([[0.3647, 0.4709],\n",
              "         [0.5184, 0.5617]], device='cuda:0'),\n",
              " torch.Size([2, 2]))"
            ]
          },
          "metadata": {},
          "execution_count": 114
        }
      ]
    },
    {
      "cell_type": "markdown",
      "source": [
        "##### 8. Find the maximum and minimum values of the output of 7."
      ],
      "metadata": {
        "id": "3bd8YyA3oqAH"
      }
    },
    {
      "cell_type": "code",
      "source": [
        "print(f\"Maximum value of tensor 'result': {result.max()}\")\n",
        "print(f\"Minimum value of tensor 'result': {result.min()}\")"
      ],
      "metadata": {
        "colab": {
          "base_uri": "https://localhost:8080/"
        },
        "id": "C7lt30PLo640",
        "outputId": "8c95bf5f-5c13-4c82-a7c7-0d0287240325"
      },
      "execution_count": 115,
      "outputs": [
        {
          "output_type": "stream",
          "name": "stdout",
          "text": [
            "Maximum value of tensor 'result': 0.5617256760597229\n",
            "Minimum value of tensor 'result': 0.3647301495075226\n"
          ]
        }
      ]
    },
    {
      "cell_type": "markdown",
      "source": [
        "##### 9. Find the maximum and minimum index values of the output of 7."
      ],
      "metadata": {
        "id": "Kqu3Nsn_pJFC"
      }
    },
    {
      "cell_type": "code",
      "source": [
        "print(f\"Index value of maximum value of tensor 'result': {result.argmax()}\")\n",
        "print(f\"INdex value of minimum value of tensor 'result': {result.argmin()}\")"
      ],
      "metadata": {
        "colab": {
          "base_uri": "https://localhost:8080/"
        },
        "id": "n4OjS8izpS1C",
        "outputId": "4e408b7a-46d4-4539-b7cc-6664d256b9a3"
      },
      "execution_count": 116,
      "outputs": [
        {
          "output_type": "stream",
          "name": "stdout",
          "text": [
            "Index value of maximum value of tensor 'result': 3\n",
            "INdex value of minimum value of tensor 'result': 0\n"
          ]
        }
      ]
    },
    {
      "cell_type": "markdown",
      "source": [
        "##### 10. Make a random tensor with shape (1, 1, 1, 10) and then create a new tensor with all the 1 dimensions removed to be left with a tensor of shape (10). Set the seed to 7 when you create it and print out the first tensor and it's shape as well as the second tensor and it's shape."
      ],
      "metadata": {
        "id": "-MiSgXwVpk_V"
      }
    },
    {
      "cell_type": "code",
      "source": [
        "torch.manual_seed(7)\n",
        "random_tensor = torch.rand(1, 1, 1, 10)\n",
        "\n",
        "random_tensor_squeezed = random_tensor.squeeze()\n",
        "\n",
        "print(f\"Original tensor: {random_tensor, random_tensor.shape}\")\n",
        "#print(f\"\\nShape of original tensor 'random_tensor': {random_tensor.shape}\")\n",
        "print(f\"\\nOriginal tensor squeezed to remove all 1 dimensions: {random_tensor_squeezed, random_tensor_squeezed.shape}\")\n",
        "#print(f\"\\nShape of 'random_tensor' squeezed to remove all the 1 dimensions: {random_tensor_squeezed.shape}\")"
      ],
      "metadata": {
        "colab": {
          "base_uri": "https://localhost:8080/"
        },
        "id": "BB_b_HTvpxx5",
        "outputId": "5d93df75-161c-4fcf-d15d-49d6bcf97cd0"
      },
      "execution_count": 117,
      "outputs": [
        {
          "output_type": "stream",
          "name": "stdout",
          "text": [
            "Original tensor: (tensor([[[[0.5349, 0.1988, 0.6592, 0.6569, 0.2328, 0.4251, 0.2071, 0.6297,\n",
            "           0.3653, 0.8513]]]]), torch.Size([1, 1, 1, 10]))\n",
            "\n",
            "Original tensor squeezed to remove all 1 dimensions: (tensor([0.5349, 0.1988, 0.6592, 0.6569, 0.2328, 0.4251, 0.2071, 0.6297, 0.3653,\n",
            "        0.8513]), torch.Size([10]))\n"
          ]
        }
      ]
    }
  ]
}